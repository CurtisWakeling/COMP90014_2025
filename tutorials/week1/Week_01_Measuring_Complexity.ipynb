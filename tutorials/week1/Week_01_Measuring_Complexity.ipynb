{
 "cells": [
  {
   "cell_type": "markdown",
   "metadata": {
    "nbgrader": {
     "grade": false,
     "grade_id": "cell-14272392f0f2605b",
     "locked": true,
     "schema_version": 3,
     "solution": false,
     "task": false
    }
   },
   "source": [
    "# Week 1 - Measuring Complexity"
   ]
  },
  {
   "cell_type": "markdown",
   "metadata": {},
   "source": [
    "**Aims**\n",
    "\n",
    "The aims of this workshop are to\n",
    "- Ensure everyone is using a consistent OS, python environment, and <u>I</u>ntegrated <u>D</u>evelopment <u>E</u>nvironment (IDE).\n",
    "- Get comfortable with writing & running cells in python notebooks \n",
    "- Explore sorting algorithms and measure their time and space complexity. \n",
    "\n",
    "**Important Checklist for Today**\n",
    "\n",
    "<input type=\"checkbox\" checked> I can open this .ipynb file. <br>\n",
    "<input type=\"checkbox\"> I have installed WSL (if my operating system is Windows). <br>\n",
    "<input type=\"checkbox\"> I have installed VSC & added recommended extensions (optional). <br>\n",
    "<input type=\"checkbox\"> I have installed python3. <br>\n",
    "<input type=\"checkbox\"> I understand how to manage python packages using venv + pip. <br>\n"
   ]
  },
  {
   "cell_type": "markdown",
   "metadata": {},
   "source": [
    "## Installing Python\n",
    "\n",
    "Python v3.10 or above is required for this subject. "
   ]
  },
  {
   "cell_type": "markdown",
   "metadata": {},
   "source": [
    "\n",
    "**Which python are you using?**\n",
    "\n",
    "> **Note**<br>\n",
    "> Any command line code in COMP90014 assumes the Bash shell is being used on Ubuntu. <br>\n",
    "> If using other shell programs and/or other operating systems your commands may be different. <br>\n",
    "> For example, if using zsh on macOS, <small>`whence -p python`</small> should be used rather than <small>`which python`</small>. \n",
    "\n",
    "Follow the instructions below to check your python installation. \n",
    "\n",
    "<div style=\"font-size: 16px\">\n",
    "\n",
    "(Bash Shell)\n",
    "> ```Bash\n",
    "> # check python binary path \n",
    "> which python \n",
    "> > /usr/bin/python\n",
    ">\n",
    "> # check python version \n",
    "> python -V \n",
    "> > Python 3.11.5\n",
    "> ```\n",
    "\n",
    "</div>\n",
    "\n",
    "The code above assumes that python is installed and your system knows where 'python' is. <br>\n",
    "If the expected output did not appear, check whether your system knows about 'python3' instead. \n",
    "\n",
    "<div style=\"font-size: 16px\">\n",
    "\n",
    "(Bash Shell)\n",
    "> ```Bash\n",
    "> # check python binary path \n",
    "> which python3\n",
    "> > /usr/bin/python\n",
    ">\n",
    "> # check python version \n",
    "> python3 -V \n",
    "> > Python 3.11.5\n",
    "> ```\n",
    "\n",
    "</div>\n",
    "\n",
    "If this worked, feel free to use <small>`python3`</small> instead of <small>`python`</small> going forward, or create an alias for python->python3. <br>\n",
    "In the example above, the same output is printed because <small>`python3`</small> is aliased to <small>`python`</small> on my system. \n",
    "\n",
    "> **Note**<br>\n",
    "> Make sure you're using your system python, not a version of python managed by tools like conda. <br>\n",
    "> The <small>`which python`</small> command should returns a path similar to <small>`/usr/bin/python`</small>. <br>\n",
    "> If instead the path contains 'miniconda' or 'conda' in it, disable conda profile autoactivation. <br>\n",
    "> Using a shell (Bash for ubuntu, zsh/terminal for mac), enter the following command: <small>`conda config --set auto_activate_base false`</small>.<br>\n",
    "> Restart VSC then check python version again to confirm the change. <br><br>\n"
   ]
  },
  {
   "cell_type": "markdown",
   "metadata": {},
   "source": [
    "\n",
    "**Installing latest Python**\n",
    "\n",
    "If you do not have python v3.10+ installed, you will need to do so. \n",
    "If running MacOS / Linux, the latest python version can be installed [here.](https://www.python.org/downloads/)<br>\n",
    "If running Ubuntu Linux via WSL, open Ubuntu, then follow these command line instructions:\n",
    "\n",
    "<div style=\"font-size: 16px\">\n",
    "\n",
    "(Bash Shell)\n",
    "> ```Bash\n",
    "> # update package manager \n",
    "> sudo apt update\n",
    "> \n",
    "> # install python \n",
    "> sudo apt install python3\n",
    ">\n",
    "> # verify installation\n",
    "> python3 -V\n",
    "> ```\n",
    "\n",
    "</div>\n",
    "\n"
   ]
  },
  {
   "cell_type": "markdown",
   "metadata": {},
   "source": [
    "\n",
    "## Managing python environments with pip + venv\n",
    "\n",
    "Proper management of your python environment is pivotal as a software engineer. <br>\n",
    "We will put this into practise in COMP90014. \n",
    "\n",
    "> **Note**<br>\n",
    "> Use of Conda (anaconda/miniconda/mamba etc) is strongly discouraged in this subject. <br> \n",
    "> If you have Conda installed, we advise you turn off auto-activation of the base environment. <br>\n",
    "> Using a shell (Bash for ubuntu, zsh/terminal for mac), enter the following command: <small>`conda config --set auto_activate_base false`</small>. <br>\n",
    "> <br>\n"
   ]
  },
  {
   "cell_type": "markdown",
   "metadata": {},
   "source": [
    "\n",
    "**What are environments and why do we care?**\n",
    "\n",
    "When a python programmer has multiple ongoing projects, package conflicts will eventually emerge. <br>\n",
    "This is because different python projects require different python libraries & versions. <br>\n",
    "In other words, each project has a unique python ***environment*** it needs to function. <br>\n",
    "\n",
    "If our COMP90014 programmer has a single python environment (the system python environment), conflicts will quickly emerge. <br>\n",
    "\n",
    "Take the following example:\n",
    "- Week 1 tutorial requires <small>`numpy v1.26.1`</small>\n",
    "- Week 2 tutorial requires <small>`numpy v2.0.0+`</small>\n",
    "\n",
    "The python package manager, [Pip](https://pip.pypa.io/en/stable/getting-started/), can't install two versions of the same package in a single environment at the same time. <br>\n",
    "Pip will have to uninstall one version to install the other. <br>\n",
    "The result is that your system python environment can ***run either*** the week 1 tutorial code, **or** the week 2 tutorial code, but never both.  \n",
    " \n",
    "This is a straightforward example. Environment conflicts can be truly harrowing in extreme cases. \n",
    "\n",
    "\n"
   ]
  },
  {
   "cell_type": "markdown",
   "metadata": {},
   "source": [
    "**Proper python environment management**\n",
    "\n",
    "In practise, the system python environment should never be used to actually run any python code (except for quick commands etc). \n",
    "\n",
    "Instead, each python project you're working on should have it's own environment. <br>\n",
    "This prevents odd bugs and helps minimise package conflicts. \n",
    "\n",
    "Each time you start working on a tutorial or assignment in COMP90014, do the following:\n",
    "1. Create a directory to work in. \n",
    "2. Change to that directory.\n",
    "3. Create a python environment. \n",
    "\n",
    "Using a shell (Bash for ubuntu, zsh/terminal for mac), follow the instructions below. \n",
    "\n",
    "<div style=\"font-size: 16px\">\n",
    "\n",
    "(Bash Shell)\n",
    "> ```Bash\n",
    "> \n",
    "> # navigate to the folder you will work in (example below, this can be wherever you like)\n",
    "> cd COMP90014/tutorials/week1\n",
    "> \n",
    "> # check your python is correct\n",
    "> which python \n",
    "> > /usr/bin/python\n",
    "> python -V \n",
    "> > Python 3.11.5\n",
    ">\n",
    "> # use the venv module to create a virtualenv. \n",
    "> # calling `python -m venv` runs the venv module, and the final 'venv' specifies the name of the environment\n",
    "> python -m venv venv\n",
    "> \n",
    "> # activate the environment to begin working \n",
    "> # note: only activates in your current shell. In VSC , ensure you select it as the 'kernel'.\n",
    "> source venv/bin/activate \n",
    "> \n",
    "> # check the environment is clean (should only list pip and setuptools)\n",
    "> pip list \n",
    "> \n",
    "> # Install the 'ipykernel' package using pip. This is needed to run code in .ipynb files. \n",
    "> pip install ipykernel\n",
    ">\n",
    "> # Install the 'matplotlib' package using pip. \n",
    "> pip install matplotlib\n",
    "> \n",
    "> # check the environment now has the required packages (should list a bunch of packages)\n",
    "> pip list \n",
    "> \n",
    "> ```\n",
    "\n",
    "</div>\n"
   ]
  },
  {
   "cell_type": "markdown",
   "metadata": {},
   "source": [
    "\n",
    "See the .gif below for an example using VSC. \n",
    "\n",
    "> **Note** <br>\n",
    "> Calling each environment 'venv' rather than a unique name is a common custom. <br>\n",
    "> The python environment should be stored in the main working directory of your project. <br>\n",
    "> For this reason, it's very location tells you \"I am the environment for python code in this directory\". \n",
    "\n",
    "Notice that the Bash shell displays loaded environments by prepending the environment name to your prompt. <br>\n",
    "In the example below, <small>`grace@DESKTOP-JI959V6:`</small> becomes <small>`(venv) grace@DESKTOP-JI959V6:`</small>.\n",
    "\n",
    "<img src=\"https://raw.githubusercontent.com/melbournebioinformatics/COMP90014_2024/master/tutorials/media/week1/vsc_python_venv.gif\" width=\"800\">"
   ]
  },
  {
   "cell_type": "markdown",
   "metadata": {},
   "source": [
    "\n",
    "The python venv environment is now loaded in your shell. \n",
    "\n",
    "**Working on notebooks with Visual Studio Code**\n",
    "\n",
    "You will need to tell VSC to use this new venv environment. \n",
    "1. Open the .ipynb file\n",
    "2. Click 'Select Kernel' (top right), then select the python environment (venv) you just created. \n"
   ]
  },
  {
   "cell_type": "markdown",
   "metadata": {},
   "source": [
    "<br>\n",
    "\n",
    "------------\n",
    "\n",
    "# Features of Python notebooks\n",
    "\n",
    "Python notebooks (like this one) are organised into cells. If you double click this text, you can see (and edit) the content in the cell. Use Shift-Enter (or Shift-Return) to execute the cell."
   ]
  },
  {
   "cell_type": "markdown",
   "metadata": {},
   "source": [
    "**Markdown cells**\n",
    "\n",
    "This cell is a markdown cell. It appears as text. \n",
    "In markdown cells, you can format headings with \"#\" or subheadings with \"##\". \n",
    "\n",
    "You can also use **bold** or _italic_ type...\n",
    "* or bullet points\n",
    "1. or even numbered lists.\n",
    "\n",
    "Double click this cell to see how these elements are encoded."
   ]
  },
  {
   "cell_type": "markdown",
   "metadata": {},
   "source": [
    "**Code cells**\n",
    "\n",
    "The cell below is a code cell. Underneath is the output of that code.<br>\n",
    "The python notebooks we use for this subject will always use Python 3."
   ]
  },
  {
   "cell_type": "code",
   "execution_count": 4,
   "metadata": {},
   "outputs": [
    {
     "name": "stdout",
     "output_type": "stream",
     "text": [
      "Hello world!\n"
     ]
    }
   ],
   "source": [
    "print(\"Hello world!\")"
   ]
  },
  {
   "cell_type": "markdown",
   "metadata": {},
   "source": [
    "Execute the two code cells below. Note that variables defined in the first code cell can be used in the second cell without being redefined."
   ]
  },
  {
   "cell_type": "code",
   "execution_count": 5,
   "metadata": {},
   "outputs": [],
   "source": [
    "str_1 = 'foo'\n",
    "str_2 = 'bar'"
   ]
  },
  {
   "cell_type": "code",
   "execution_count": 6,
   "metadata": {},
   "outputs": [
    {
     "data": {
      "text/plain": [
       "'foobar'"
      ]
     },
     "execution_count": 6,
     "metadata": {},
     "output_type": "execute_result"
    }
   ],
   "source": [
    "str_1 + str_2"
   ]
  },
  {
   "cell_type": "markdown",
   "metadata": {},
   "source": [
    "Use Python code to complete the function in the cell below. Similar to the example above, a function defined in one cell can be called in another cell.\n",
    "\n",
    "The function should take two integers *a* and *b* as inputs and return the sum of *a* and *b* as an integer."
   ]
  },
  {
   "cell_type": "code",
   "execution_count": 7,
   "metadata": {},
   "outputs": [],
   "source": [
    "def add_ints(a, b):\n",
    "    # Your code here\n",
    "    return a + b"
   ]
  },
  {
   "cell_type": "code",
   "execution_count": 8,
   "metadata": {},
   "outputs": [
    {
     "data": {
      "text/plain": [
       "4"
      ]
     },
     "execution_count": 8,
     "metadata": {},
     "output_type": "execute_result"
    }
   ],
   "source": [
    "add_ints(1, 3) # Should output 4."
   ]
  },
  {
   "cell_type": "markdown",
   "metadata": {},
   "source": [
    "You can also use the command ? or help() to get help on any built-in functions. For instance, sorted? or help(sorted)."
   ]
  },
  {
   "cell_type": "code",
   "execution_count": 9,
   "metadata": {},
   "outputs": [
    {
     "name": "stdout",
     "output_type": "stream",
     "text": [
      "\u001b[31mSignature:\u001b[39m sorted(iterable, /, *, key=\u001b[38;5;28;01mNone\u001b[39;00m, reverse=\u001b[38;5;28;01mFalse\u001b[39;00m)\n",
      "\u001b[31mDocstring:\u001b[39m\n",
      "Return a new list containing all items from the iterable in ascending order.\n",
      "\n",
      "A custom key function can be supplied to customize the sort order, and the\n",
      "reverse flag can be set to request the result in descending order.\n",
      "\u001b[31mType:\u001b[39m      builtin_function_or_method"
     ]
    }
   ],
   "source": [
    "sorted?"
   ]
  },
  {
   "cell_type": "markdown",
   "metadata": {},
   "source": [
    "You can run shell commands from the notebook by prefixing them with an `!`"
   ]
  },
  {
   "cell_type": "code",
   "execution_count": 10,
   "metadata": {},
   "outputs": [
    {
     "name": "stdout",
     "output_type": "stream",
     "text": [
      "total 2600\n",
      "drwxr-xr-x   6 unlock  staff   192B Jul 28 16:48 \u001b[34m.\u001b[m\u001b[m\n",
      "drwxr-xr-x  17 unlock  staff   544B Jul 28 16:48 \u001b[34m..\u001b[m\u001b[m\n",
      "-rw-r--r--@  1 unlock  staff   146K Jul 28 16:48 Week_01_Measuring_Complexity.ipynb\n",
      "drwxr-xr-x   8 unlock  staff   256B Jul 24 19:20 \u001b[34mvenv\u001b[m\u001b[m\n",
      "-rw-r--r--@  1 unlock  staff   1.1M Jul 25 13:51 week01-tutorial.pptx\n",
      "-rw-r--r--@  1 unlock  staff   165B Jul 28 15:12 ~$week01-tutorial.pptx\n"
     ]
    }
   ],
   "source": [
    "!ls -lah"
   ]
  },
  {
   "cell_type": "markdown",
   "metadata": {},
   "source": [
    "**Keyboard shortcuts**\n",
    "\n",
    "Below is a list of useful shortcuts. Try opening a new cell (a code cell by default) and converting it to a markdown cell. Try copying and pasting that cell. Play around with these shortcuts until you feel confident.\n",
    "* Shift-Enter : execute the code in the current cell\n",
    "* Enter : edit the current cell\n",
    "* ESC : stop editing a cell and return to \"command mode\" to use other hotkeys\n",
    "* m : turn the current cell into a Markdown cell\n",
    "* y : turn the current cell into a code cell\n",
    "* a : add a new cell above\n",
    "* b : add a new cell below\n",
    "* dd : delete the current cell\n",
    "* c : copy the current cell\n",
    "* v : paste the copied cell\n",
    "* z : undo\n"
   ]
  },
  {
   "cell_type": "markdown",
   "metadata": {},
   "source": [
    "For more information about using Jupyter notebooks, try this tutorial from AARNet:\n",
    "<https://aarnet.github.io/Introduction_to_Jupyter_notebooks/>"
   ]
  },
  {
   "cell_type": "markdown",
   "metadata": {},
   "source": [
    "<br>\n",
    "\n",
    "------------\n",
    "\n",
    "# Sorting Algorithms & Runtime Complexity"
   ]
  },
  {
   "cell_type": "markdown",
   "metadata": {},
   "source": [
    "In this final section we will:\n",
    "    \n",
    "1. Implement Selection Sort\n",
    "2. Implement Merge Sort\n",
    "3. Empirically determine complexity for Insertion, Merge, and Selection Sort"
   ]
  },
  {
   "cell_type": "code",
   "execution_count": 1,
   "metadata": {},
   "outputs": [],
   "source": [
    "# Get matplotlib plots to appear inline in the notebook\n",
    "%matplotlib inline\n",
    "\n",
    "# Import packages\n",
    "import matplotlib.pyplot as plt\n",
    "import numpy as np"
   ]
  },
  {
   "cell_type": "markdown",
   "metadata": {},
   "source": [
    "## Selection sort \n",
    "\n",
    "<img src=\"https://raw.githubusercontent.com/melbournebioinformatics/COMP90014_2024/master/tutorials/media/week1/selection_sort.gif\" width=\"400\">\n",
    "\n",
    "Here is a version of the algorithm in words:\n",
    "\n",
    "1. Search the original array for the smallest element\n",
    "2. Swap the smallest element with the left-most unsorted element \n",
    "3. Repeat from step 2-3 until the entire array is sorted"
   ]
  },
  {
   "cell_type": "markdown",
   "metadata": {},
   "source": [
    "<div class=\"info\">\n",
    "\n",
    "<b>Challenge:</b> Implement selection sort below. \n",
    "\n",
    "</div>"
   ]
  },
  {
   "cell_type": "code",
   "execution_count": 2,
   "metadata": {
    "nbgrader": {
     "grade": false,
     "grade_id": "cell-0e166a7e1b462fa7",
     "locked": false,
     "schema_version": 3,
     "solution": true,
     "task": false
    }
   },
   "outputs": [],
   "source": [
    "def selection_sort(items):\n",
    "    \"\"\"\n",
    "    Sorts a list or an array of items using selection sort in place.\n",
    "    \"\"\"\n",
    "    # Your code here\n",
    "    # Get the length of the array\n",
    "    n = len(items)\n",
    "    for i in range(n):\n",
    "        # Find the index of the minimum item\n",
    "        min_idx = i\n",
    "        for j in range(i + 1, n, 1):\n",
    "            if items[j] < items[min_idx]:\n",
    "                min_idx = j\n",
    "        # Swap the minimum item with the first unsorted item\n",
    "        items[i], items[min_idx] = items[min_idx], items[i]\n",
    "    return items"
   ]
  },
  {
   "cell_type": "code",
   "execution_count": 3,
   "metadata": {},
   "outputs": [
    {
     "name": "stdout",
     "output_type": "stream",
     "text": [
      "[3, 3, 4, 5, 7, 22]\n"
     ]
    }
   ],
   "source": [
    "# Test your code above\n",
    "x = [5, 3, 7, 22, 4, 3]\n",
    "print(selection_sort(x))\n",
    "assert selection_sort(x) == sorted(x)"
   ]
  },
  {
   "cell_type": "code",
   "execution_count": 4,
   "metadata": {},
   "outputs": [
    {
     "name": "stdout",
     "output_type": "stream",
     "text": [
      "[ 3  3  4  5  7 22]\n"
     ]
    }
   ],
   "source": [
    "# Python lists have large overhead, numpy array is encouraged when items are all the same primitive type\n",
    "x = np.array([5, 3, 7, 22, 4, 3])\n",
    "print(selection_sort(x))\n",
    "assert np.array_equal(selection_sort(x), np.sort(x))"
   ]
  },
  {
   "cell_type": "markdown",
   "metadata": {},
   "source": [
    "# Testing time complexity"
   ]
  },
  {
   "cell_type": "markdown",
   "metadata": {},
   "source": [
    "We've written some functions below that create lists with different properties. <br>\n",
    "Execute the following cell so that your python kernel knows about them. "
   ]
  },
  {
   "cell_type": "code",
   "execution_count": 5,
   "metadata": {},
   "outputs": [],
   "source": [
    "def sorted_array(N):\n",
    "    \"\"\"Creates a list of N integers that is already sorted.\"\"\"\n",
    "    return np.arange(N)\n",
    "\n",
    "def reversed_array(N):\n",
    "    \"\"\"Creates a list of N integers, sorted in reversed order.\"\"\"\n",
    "    return np.arange(N-1, -1, -1)\n",
    "\n",
    "def random_array(N):\n",
    "    \"\"\"Creates a list of N integers, shuffled randomly.\"\"\"\n",
    "    return np.random.permutation(N)"
   ]
  },
  {
   "cell_type": "code",
   "execution_count": 6,
   "metadata": {},
   "outputs": [
    {
     "data": {
      "text/plain": [
       "array([0, 1, 2, 3, 4, 5, 6, 7, 8, 9])"
      ]
     },
     "execution_count": 6,
     "metadata": {},
     "output_type": "execute_result"
    }
   ],
   "source": [
    "sorted_array(10)"
   ]
  },
  {
   "cell_type": "code",
   "execution_count": 7,
   "metadata": {},
   "outputs": [
    {
     "data": {
      "text/plain": [
       "array([9, 8, 7, 6, 5, 4, 3, 2, 1, 0])"
      ]
     },
     "execution_count": 7,
     "metadata": {},
     "output_type": "execute_result"
    }
   ],
   "source": [
    "reversed_array(10)"
   ]
  },
  {
   "cell_type": "markdown",
   "metadata": {},
   "source": [
    "Let's test the performance of selection sort using python notebook's `%timeit` magic. We'll make the list outside the timed cell, as we don't want to time the creation."
   ]
  },
  {
   "cell_type": "code",
   "execution_count": 8,
   "metadata": {},
   "outputs": [
    {
     "name": "stdout",
     "output_type": "stream",
     "text": [
      "6.97 μs ± 111 ns per loop (mean ± std. dev. of 7 runs, 100,000 loops each)\n"
     ]
    }
   ],
   "source": [
    "items = random_array(10)\n",
    "%timeit selection_sort(items)"
   ]
  },
  {
   "cell_type": "markdown",
   "metadata": {},
   "source": [
    "On a bigger list:"
   ]
  },
  {
   "cell_type": "code",
   "execution_count": 10,
   "metadata": {},
   "outputs": [
    {
     "name": "stdout",
     "output_type": "stream",
     "text": [
      "51.2 ms ± 1.26 ms per loop (mean ± std. dev. of 7 runs, 10 loops each)\n"
     ]
    }
   ],
   "source": [
    "items = random_array(1000)\n",
    "%timeit selection_sort(items)"
   ]
  },
  {
   "cell_type": "markdown",
   "metadata": {},
   "source": [
    "Here's a helper function called `time_sort()` that you can use to time a sort function once you've written it, and plot the results. <br>\n",
    "We'll use this to assess the performance of our python `isort()` insertion sort implementation on different inputs. "
   ]
  },
  {
   "cell_type": "code",
   "execution_count": 11,
   "metadata": {},
   "outputs": [],
   "source": [
    "from timeit import timeit\n",
    "\n",
    "def time_sort(sort_function, input_array, num_runs = 20):\n",
    "    \"\"\"\n",
    "    Times a sort function on a given input array using timeit.\n",
    "    Makes use of a global variable unsorted_array, which will be overwritten.\n",
    "    \"\"\"\n",
    "    # Total time of running num_runs times\n",
    "    total_run_time = timeit(lambda: sort_function(input_array.copy()), number = num_runs)\n",
    "    # Get the average run time\n",
    "    return total_run_time / num_runs"
   ]
  },
  {
   "cell_type": "markdown",
   "metadata": {},
   "source": [
    "Run the cell below to visualise our `selection_sort()` function's runtime performance.\n",
    "\n",
    "We will run the `selection_sort()` function many times, each time increasing the number of items in the list.\n",
    "\n",
    "The time complexity of selection sort is $O(n^2)$, so we should see a quadratic curve in the following."
   ]
  },
  {
   "cell_type": "code",
   "execution_count": 21,
   "metadata": {},
   "outputs": [
    {
     "data": {
      "image/png": "[encoded data removed]",
      "text/plain": [
       "<Figure size 640x480 with 1 Axes>"
      ]
     },
     "metadata": {},
     "output_type": "display_data"
    }
   ],
   "source": [
    "# Feel free to play around with the array length range\n",
    "n_items = range(100, 2000, 100)\n",
    "\n",
    "data = []\n",
    "# Higher number repeats -> smoother curve, but longer running time\n",
    "n_repeat = 20\n",
    "for n in n_items:\n",
    "    # Use random array as input\n",
    "    the_input = random_array(n)\n",
    "    time_taken = time_sort(selection_sort, the_input, n_repeat)\n",
    "    data.append(time_taken)\n",
    "plt.plot(n_items, data, c = \"red\", label = \"Selection Sort\")\n",
    "\n",
    "plt.legend()\n",
    "plt.show()"
   ]
  },
  {
   "cell_type": "markdown",
   "metadata": {},
   "source": [
    "\n",
    "<br>\n",
    "\n",
    "-----------------\n",
    "\n",
    "# Extension Activity: Merge Sort\n",
    "\n",
    "This section is optional. \n",
    "\n",
    "In this section we will complete a partially-coded implementation of merge sort. \n",
    "\n",
    "Here is a reminder for the merge sort algorithm\n",
    "\n",
    "<img src=\"https://raw.githubusercontent.com/melbournebioinformatics/COMP90014_2024/master/tutorials/media/week1/merge_sort_2.gif\" width=\"400\">"
   ]
  },
  {
   "cell_type": "markdown",
   "metadata": {},
   "source": [
    "Here is a version of the algorithm in words:\n",
    "\n",
    "1. Return the list if only one item left\n",
    "1. Split the list into two halves, and sort them recursively\n",
    "1. Join the two halves together"
   ]
  },
  {
   "cell_type": "code",
   "execution_count": 22,
   "metadata": {},
   "outputs": [],
   "source": [
    "def msort(items):\n",
    "    len_array = len(items)\n",
    "    if len_array <= 1:\n",
    "        return items\n",
    "    else:\n",
    "        mid_point = len_array // 2\n",
    "        top = items[:mid_point]\n",
    "        bottom = items[mid_point:]\n",
    "        return merge(msort(top), msort(bottom))"
   ]
  },
  {
   "cell_type": "markdown",
   "metadata": {},
   "source": [
    "This function won't work yet because it depends on a `merge()` function, which we haven't defined.\n",
    "\n",
    "<div class=\"info\">\n",
    "    <b>Challenge:</b> Write a merge function to merge two lists. Assume both lists are already sorted, and ensure that the resulting list is sorted.\n",
    "</div>"
   ]
  },
  {
   "cell_type": "code",
   "execution_count": 15,
   "metadata": {},
   "outputs": [
    {
     "name": "stdout",
     "output_type": "stream",
     "text": [
      "[ 2.  4.  6.  6.  9. 20. 21.]\n"
     ]
    }
   ],
   "source": [
    "# Test your merge function\n",
    "x1 = np.array([4, 6, 9])\n",
    "x2 = np.array([2, 6, 20, 21])\n",
    "print(merge(x1, x2))\n",
    "assert np.array_equal(merge(x1, x2), np.array([2, 4, 6, 6, 9, 20, 21]))"
   ]
  },
  {
   "cell_type": "markdown",
   "metadata": {},
   "source": [
    "Once you have `merge()` working, `msort()` should work correctly:"
   ]
  },
  {
   "cell_type": "code",
   "execution_count": 27,
   "metadata": {},
   "outputs": [
    {
     "name": "stdout",
     "output_type": "stream",
     "text": [
      "[ 3.  3.  4.  5.  7. 22.]\n"
     ]
    }
   ],
   "source": [
    "x = [5, 3, 7, 22, 4, 3]\n",
    "print(msort(x))\n",
    "assert np.array_equal(msort(x), sorted(x))"
   ]
  },
  {
   "cell_type": "markdown",
   "metadata": {},
   "source": [
    "Now we compare the running time between selection sort and merge sort.\n",
    "\n",
    "The time complexity of selection sort is $O(n^2)$, while for merge sort is $O(n \\log n)$."
   ]
  },
  {
   "cell_type": "code",
   "execution_count": 28,
   "metadata": {},
   "outputs": [
    {
     "data": {
      "image/png": "[encoded data removed]",
      "text/plain": [
       "<Figure size 640x480 with 1 Axes>"
      ]
     },
     "metadata": {},
     "output_type": "display_data"
    }
   ],
   "source": [
    "n_items = list(range(100, 1000, 100))\n",
    "\n",
    "# Higher number repeats -> smoother curve, but longer running time\n",
    "n_repeat = 50\n",
    "\n",
    "# Selection Sort\n",
    "data = []\n",
    "for n in n_items:\n",
    "    # Use random array as input\n",
    "    the_input = random_array(n)\n",
    "    time_taken = time_sort(selection_sort, the_input, n_repeat)\n",
    "    data.append(time_taken)\n",
    "plt.plot(n_items, data, \"r-o\", label = \"Selection Sort\")\n",
    "\n",
    "# Merge Sort with the same code\n",
    "data = []\n",
    "for n in n_items:\n",
    "    # Use random array as input\n",
    "    the_input = random_array(n)\n",
    "    time_taken = time_sort(msort, the_input, n_repeat)\n",
    "    data.append(time_taken)\n",
    "plt.plot(n_items, data, \"g-o\", label = \"Merge Sort\")\n",
    "\n",
    "# Plot\n",
    "plt.legend()\n",
    "plt.title('Time Complexity')\n",
    "plt.xlabel('Array Size (n)')\n",
    "plt.ylabel('Running Time (s)')\n",
    "plt.grid(True, alpha=0.3)\n",
    "plt.tight_layout()\n",
    "plt.show()"
   ]
  },
  {
   "cell_type": "markdown",
   "metadata": {},
   "source": [
    "Now we compare the space complexity between selection sort and merge sort.\n",
    "\n",
    "As selection sort is implemented in place, so no extra memory is allocated. However, merge sort need to join two sub arrays together, requiring extra space roughly equal to the original array $n$.\n",
    "\n",
    "The space complexity of selection sort is $O(1)$, while for merge sort is $O(n)$."
   ]
  },
  {
   "cell_type": "code",
   "execution_count": 29,
   "metadata": {},
   "outputs": [
    {
     "data": {
      "image/png": "[encoded data removed]",
      "text/plain": [
       "<Figure size 640x480 with 1 Axes>"
      ]
     },
     "metadata": {},
     "output_type": "display_data"
    }
   ],
   "source": [
    "import tracemalloc\n",
    "import copy\n",
    "\n",
    "def measure_space_complexity(sort_func, arr, n_repeat = 5):\n",
    "    \"\"\"Measure peak memory usage during sorting\"\"\"\n",
    "    peak_memories = []\n",
    "    for _ in range(n_repeat):\n",
    "        # Make a copy of input array for each test\n",
    "        test_array = copy.deepcopy(arr)\n",
    "        # Start memory tracking\n",
    "        tracemalloc.start()\n",
    "        # Run the sorting algorithm\n",
    "        sort_func(test_array)\n",
    "        # Get peak memory usage\n",
    "        current, peak = tracemalloc.get_traced_memory()\n",
    "        peak_memories.append(peak)\n",
    "        # Stop memory tracking\n",
    "        tracemalloc.stop()\n",
    "    # Return average peak memory usage in bytes\n",
    "    return sum(peak_memories) / len(peak_memories)\n",
    "\n",
    "# Test different array sizes\n",
    "n_items = list(range(100, 1000, 100))\n",
    "n_repeat = 5\n",
    "\n",
    "# Measure space complexity\n",
    "selection_space = []\n",
    "merge_space = []\n",
    "\n",
    "for n in n_items:\n",
    "    # Generate test array\n",
    "    test_input = random_array(n)\n",
    "    # Measure space for selection sort\n",
    "    space_sel = measure_space_complexity(selection_sort, test_input, n_repeat)\n",
    "    selection_space.append(space_sel)\n",
    "    # Measure space for merge sort  \n",
    "    space_merge = measure_space_complexity(msort, test_input, n_repeat)\n",
    "    merge_space.append(space_merge)\n",
    "\n",
    "plt.plot(n_items, selection_space, 'r-o', label='Selection Sort O(1)', linewidth=2)\n",
    "plt.plot(n_items, merge_space, 'g-o', label='Merge Sort O(n)', linewidth=2)\n",
    "plt.title('Space Complexity')\n",
    "plt.xlabel('Array Size (n)')\n",
    "plt.ylabel('Peak Memory Usage (bytes)')\n",
    "plt.legend()\n",
    "plt.grid(True, alpha=0.3)"
   ]
  }
 ],
 "metadata": {
  "celltoolbar": "Create Assignment",
  "kernelspec": {
   "display_name": "venv",
   "language": "python",
   "name": "python3"
  },
  "language_info": {
   "codemirror_mode": {
    "name": "ipython",
    "version": 3
   },
   "file_extension": ".py",
   "mimetype": "text/x-python",
   "name": "python",
   "nbconvert_exporter": "python",
   "pygments_lexer": "ipython3",
   "version": "3.13.3"
  }
 },
 "nbformat": 4,
 "nbformat_minor": 4
}
