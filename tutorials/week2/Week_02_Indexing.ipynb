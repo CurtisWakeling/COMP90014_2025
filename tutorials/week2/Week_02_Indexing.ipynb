{
 "cells": [
  {
   "cell_type": "markdown",
   "metadata": {},
   "source": [
    "# Week 02 - Indexing "
   ]
  },
  {
   "cell_type": "markdown",
   "metadata": {},
   "source": [
    "<div style=\"color: rgb(27,94,32); background: rgb(200,230,201); border: solid 1px rgb(129,199,132); padding: 10px;\">\n",
    "\n",
    "In this tutorial we will learn about genome indexing with hash tables.\n",
    "    \n",
    "</div>"
   ]
  },
  {
   "cell_type": "markdown",
   "metadata": {},
   "source": [
    "## Setup"
   ]
  },
  {
   "cell_type": "markdown",
   "metadata": {},
   "source": [
    "**Week 2 workspace**\n",
    "\n",
    "Ensure you have cloned COMP90014_2025 GitHub repository [https://github.com/melbournebioinformatics/COMP90014_2025.git](https://github.com/melbournebioinformatics/COMP90014_2025.git)\n",
    "\n",
    "VSCode IDE Setup:\n",
    "1. Open VSCode and open week2 directory <small>`COMP90014_2025/tutorials/week2`</small> using \"File\" -> \"Open Folder...\". \n",
    "2. Open the .ipynb file and ensure the kernel is set to your new 'venv' environment for week2 (top right). \n",
    "\n",
    "\n",
    "**Week 2 data**\n",
    "\n",
    "This week we will be aligning a DNA read sequence to a viral genome.\n",
    "\n",
    "No extra download is needed if you clone the GitHub repository. The data is at <small>`COMP90014_2025/tutorials/week2/data`</small> folder. You should be able to see them in the left panel.\n",
    "\n",
    "If you are referring from iPython notebook folder, you can use <small>`data/phi-X174-420bp.fa`</small> etc.\n",
    "\n",
    "If you wish to download manually, they are [phi-X174-420bp.fa](https://github.com/melbournebioinformatics/COMP90014_2025/blob/master/tutorials/week2/data/phi-X174-420bp.fa?raw=true) and [phi-X174-genome.fa](https://github.com/melbournebioinformatics/COMP90014_2025/blob/master/tutorials/week2/data/phi-X174-genome.fa?raw=true)\n",
    "\n",
    "**Python environment**\n",
    "\n",
    "Create a python environment for this tutorial. <br>\n",
    "It should be located in your new 'week2' directory.\n",
    "\n",
    "This week we need:\n",
    "- ipykernel\n",
    "- requests\n",
    "- biopython\n",
    "- matplotlib\n",
    "- tqdm\n",
    "\n",
    "<div style=\"font-size: 16px\">\n",
    "\n",
    "(Bash Shell)\n",
    "> ```Bash\n",
    "> # check you are in the week2 directory.\n",
    "> pwd\n",
    "> cd ~/COMP90014/tutorials/week2  # (change directory if required)\n",
    "> \n",
    "> # NOTE: \n",
    "> # the following command may return 'miniconda' | 'conda' etc in the python path. \n",
    "> # if so, first try to solve using `conda config --set auto_activate_base false` then restarting your shell. \n",
    "> # if unsuccessful, you can specify the exact python binary to use. \n",
    "> # a version of python should be present in /usr/bin, or /usr/local/bin.\n",
    "> # for example /usr/bin/python, or /usr/bin/python3.10, or /usr/local/bin/python3.\n",
    "> # on macOS, python may also be found at /Library/Frameworks/Python.framework/Versions/[version]/bin.\n",
    "> # for example /Library/Frameworks/Python.framework/Versions/3.11/bin/python3.\n",
    "> \n",
    "> # check your python is correct.\n",
    "> which python3\n",
    "> > /usr/bin/python3\n",
    "> python3 -V \n",
    "> > Python 3.11.5\n",
    ">\n",
    "> # use the venv module to create a virtualenv. \n",
    "> # calling `python -m venv` runs the venv module, and the final 'venv' specifies the name of the environment\n",
    "> python3 -m venv venv\n",
    "> \n",
    "> # activate the environment to begin working \n",
    "> # note: only activates in your current shell. if using VSC / Jupyter Lab, ensure you select it as the 'kernel'.\n",
    "> source venv/bin/activate \n",
    "> \n",
    "> # check the environment is clean (should only list pip and setuptools)\n",
    "> pip list \n",
    "> \n",
    "> # Install packages for this week. If using Jupyter Lab, swap 'ipykernel' for 'jupyterlab'.\n",
    "> pip install ipykernel requests biopython matplotlib tqdm\n",
    ">\n",
    "> # check the environment now has the required packages (should list a bunch of packages)\n",
    "> pip list \n",
    "> \n",
    "> ```\n",
    "\n",
    "</div>\n",
    "\n",
    "**Final check**\n",
    "\n",
    "Your 'week2' directory should now have 3 things: \n",
    "- The tutorial <small>`.ipynb`</small> notebook\n",
    "- A week2 slides\n",
    "- A <small>`venv`</small> folder for your python environment\n",
    "- A <small>`data`</small> folder containing the viral genome & read sequence. \n",
    "\n",
    "You can use the file explorer in VSC to confirm.\n",
    "\n",
    "</div>"
   ]
  },
  {
   "cell_type": "markdown",
   "metadata": {},
   "source": [
    "# Generators and iterators"
   ]
  },
  {
   "cell_type": "markdown",
   "metadata": {},
   "source": [
    "We're going to introduce a new kind of Python object - generators. A generator is a special function that uses `yield` to produce one value at a time, pausing and remembering its state between calls, so you can iterate through (even huge) sequences without loading everything into memory.\n",
    "\n",
    "A generator function is easy to recognize as it uses the `yield` keyword rather than the `return` keyword to return values.\n",
    "\n",
    "Here's a (normal) function that returns a list of k-mers."
   ]
  },
  {
   "cell_type": "code",
   "execution_count": null,
   "metadata": {},
   "outputs": [],
   "source": [
    "def get_kmers_list(text, k):\n",
    "    ''' \n",
    "    Return a list of all k-mers of length k from string t.\n",
    "    K-mers may be non-unique.\n",
    "    '''\n",
    "    result = []\n",
    "    for i in range(len(text) - k + 1):\n",
    "        kmer = text[i : i + k]\n",
    "        result.append(kmer)\n",
    "    return result"
   ]
  },
  {
   "cell_type": "code",
   "execution_count": null,
   "metadata": {},
   "outputs": [],
   "source": [
    "get_kmers_list('BANANA', 3)"
   ]
  },
  {
   "cell_type": "markdown",
   "metadata": {},
   "source": [
    "In the above function, the `result` object can be a huge list if `text` is large. Human reference genome has a memory footprint of around 3GB. For k = 30, the `results` object is roughly 90GB, infeasible for regular computers.\n",
    "\n",
    "Here's a *generator function* that returns all the k-mers in the string, but only calculates each one as it is asked for. Every time the function reaches the `yield` keyword, it makes a new value available, which is consumed by whatever we are using to iterate, such as a `for` loop. At no point do we need to store the whole list of k-mers in memory!"
   ]
  },
  {
   "cell_type": "code",
   "execution_count": null,
   "metadata": {},
   "outputs": [],
   "source": [
    "def get_kmers_iterator(text, k):\n",
    "    ''' \n",
    "    Return a generator yielding all k-mers of length k from string t.\n",
    "    K-mers may be non-unique.\n",
    "    '''\n",
    "    for i in range(len(text) - k + 1):\n",
    "        kmer = text[i : i + k]\n",
    "        yield kmer"
   ]
  },
  {
   "cell_type": "markdown",
   "metadata": {},
   "source": [
    "Notice we yield the kmers one at a time. We don't try to return the whole list at once. There is no list!\n",
    "\n",
    "Every iteration in a `for` loop, the function resumes running from where it left off and runs until it gets to a `yield` statement.\n",
    "\n",
    "This gives us a generator, which is iterable:"
   ]
  },
  {
   "cell_type": "code",
   "execution_count": null,
   "metadata": {
    "scrolled": true
   },
   "outputs": [],
   "source": [
    "for kmer in get_kmers_iterator('BANANA', 3):\n",
    "    print(kmer)"
   ]
  },
  {
   "cell_type": "code",
   "execution_count": null,
   "metadata": {},
   "outputs": [],
   "source": [
    "# There is no list\n",
    "print(get_kmers_iterator('BANANA', 3))"
   ]
  },
  {
   "cell_type": "markdown",
   "metadata": {},
   "source": [
    "Convert the generator to list, which stores everything in memory."
   ]
  },
  {
   "cell_type": "code",
   "execution_count": null,
   "metadata": {},
   "outputs": [],
   "source": [
    "list(get_kmers_iterator('BANANA',3))"
   ]
  },
  {
   "cell_type": "markdown",
   "metadata": {},
   "source": [
    "We can still assign the generator to a variable (if we want to)"
   ]
  },
  {
   "cell_type": "code",
   "execution_count": null,
   "metadata": {},
   "outputs": [],
   "source": [
    "kmers = get_kmers_iterator('BANANA', 3)\n",
    "print(kmers)"
   ]
  },
  {
   "cell_type": "markdown",
   "metadata": {},
   "source": [
    "Unlike with a list, Python can't tell us how many k-mers are going to be returned in total, as it hasn't built a list - it doesn't know what any of the k-mers are yet."
   ]
  },
  {
   "cell_type": "code",
   "execution_count": null,
   "metadata": {},
   "outputs": [],
   "source": [
    "# Try: len(kmers)"
   ]
  },
  {
   "cell_type": "code",
   "execution_count": null,
   "metadata": {},
   "outputs": [],
   "source": [
    "for kmer in kmers:\n",
    "    print(kmer)"
   ]
  },
  {
   "cell_type": "markdown",
   "metadata": {},
   "source": [
    "This concept is very useful if we want to iterate over large number of k-mers or suffixes and store them in a more concise data structure, and don't want to hold them all in memory in the meantime."
   ]
  },
  {
   "cell_type": "markdown",
   "metadata": {},
   "source": [
    "The itertools module provides lots of handy iterators, and ways to create them. E.g.:"
   ]
  },
  {
   "cell_type": "code",
   "execution_count": null,
   "metadata": {
    "scrolled": true
   },
   "outputs": [],
   "source": [
    "import itertools\n",
    "\n",
    "yesno_forever = itertools.cycle(['yes', 'no'])\n",
    "count = 0\n",
    "for x in yesno_forever:\n",
    "    print(x)\n",
    "    count += 1\n",
    "    if count > 5:\n",
    "        # This gets us out of the for loop\n",
    "        break"
   ]
  },
  {
   "cell_type": "markdown",
   "metadata": {},
   "source": [
    "`enumerate()` can also work with iterators:"
   ]
  },
  {
   "cell_type": "code",
   "execution_count": null,
   "metadata": {
    "scrolled": true
   },
   "outputs": [],
   "source": [
    "kmers = get_kmers_iterator('BANANA', 3)\n",
    "for (i, kmer) in enumerate(kmers):\n",
    "    print(i, kmer)"
   ]
  },
  {
   "cell_type": "code",
   "execution_count": null,
   "metadata": {},
   "outputs": [],
   "source": [
    "kmers = get_kmers_iterator('BANANA', 3)\n",
    "\n",
    "list(enumerate(kmers))"
   ]
  },
  {
   "cell_type": "markdown",
   "metadata": {},
   "source": [
    "# Hash tables\n",
    "\n",
    "### Why use hash tables?\n",
    "\n",
    "Hash tables allow us to look up data in constant time, O(1), by reserving a specified number of locations in memory and storing data based on a memory address (or index) that is generated from a key value. The key part of a hash table is the hash function, which maps the input to a numeric value, corresponding to the memory address where the item is stored.\n",
    "\n",
    "### Properties of Hash Function\n",
    "\n",
    "- Deterministic: Same input always yields the same output.\n",
    "\n",
    "- Efficiency: Runs in time close to linear in input length; low constant factors.\n",
    "\n",
    "- Fixed-length output: Produces a compact, fixed-size digest.\n",
    "\n",
    "- Uniformity: Outputs are evenly distributed over the range.\n",
    "\n",
    "### Dictionaries are hash tables\n",
    "\n",
    "Python dicts **ARE** already a hashtable so will hash whatever values we set as keys and create their own hash index in the background.\n",
    "\n",
    "You can use `my_dict = dict()` to define a dictionary, and use `my_dict[key] = value` to insert key-value pairs.\n",
    "\n",
    "To understand how Python hash tables work you can check out this [post](https://realpython.com/python-hash-table)."
   ]
  },
  {
   "cell_type": "markdown",
   "metadata": {},
   "source": [
    "# Hashing DNA strings\n",
    "\n",
    "As DNA is double stranded and can be arbitrarily read in either direction we typically choose one of the two possible orientations to represent a given kmer. This is call the \"canonical\" kmer and is chosen as the lexicographically smaller of the two kmers."
   ]
  },
  {
   "cell_type": "code",
   "execution_count": null,
   "metadata": {},
   "outputs": [],
   "source": [
    "from Bio.Seq import Seq\n",
    "\n",
    "# Create a new seq object\n",
    "fwd = Seq('ATG')\n",
    "rev = fwd.reverse_complement()\n",
    "print(fwd)\n",
    "print(rev)"
   ]
  },
  {
   "cell_type": "code",
   "execution_count": null,
   "metadata": {},
   "outputs": [],
   "source": [
    "# In this case ATG is smaller than CAT\n",
    "fwd <= rev"
   ]
  },
  {
   "cell_type": "markdown",
   "metadata": {},
   "source": [
    "Having selected our canonical kmer we will run our hash function and then the modulo operation to find the memory address for this kmer in a hash table with 10 slots."
   ]
  },
  {
   "cell_type": "code",
   "execution_count": null,
   "metadata": {},
   "outputs": [],
   "source": [
    "# We can use Python's built in hash function for this.\n",
    "# but beware, hash() will not return consistent values between different sessions!\n",
    "\n",
    "print(f'The hash of ATG is: {hash(fwd)}')\n",
    "print(f'The memory address in a hashtable of size 10 is: {hash(fwd) % 10}')"
   ]
  },
  {
   "cell_type": "markdown",
   "metadata": {},
   "source": [
    "# Kmer index via hash table"
   ]
  },
  {
   "cell_type": "markdown",
   "metadata": {},
   "source": [
    "In this section you will build a hash table to store and retrieve the locations of kmers within a DNA sequence.\n",
    "\n",
    "Your \"hash table\" will be constructed as a Python dict with memory addresses (indices) as dictionary keys and kmer locations stored under these locations as tuples with the canonical kmer and a list of kmer locations.\n",
    "\n",
    "\n",
    "In our previous example 'ATG' had an index of 2. 'ATG' occurs twice in the seq 'ATGATG' at positions 1 and 4.\n",
    "\n",
    "It would be stored in our dict as:\n",
    "\n",
    "`HashTable[2] = ('ATG',[1,4])`\n",
    "\n",
    "\n",
    "Where collisions occur you should use linear probing to locate an alternative memory slot to store the kmer and its locations.\n",
    "\n"
   ]
  },
  {
   "cell_type": "markdown",
   "metadata": {},
   "source": [
    "## Task 1 - Get canonical kmers"
   ]
  },
  {
   "cell_type": "markdown",
   "metadata": {},
   "source": [
    "<div class=\"info\">\n",
    "\n",
    "<b>Task 1:</b> Write a function to return the lexicographically smaller of the two orientations of a DNA sequence.\n",
    "    \n",
    "- [ ] Take Biopython Seq object as input\n",
    "- [ ] Compare the kmer to its reverse complement \n",
    "- [ ] Return the lexicographically smaller of the two kmers\n",
    "</div>"
   ]
  },
  {
   "cell_type": "code",
   "execution_count": null,
   "metadata": {
    "nbgrader": {
     "grade": false,
     "grade_id": "T1",
     "locked": false,
     "schema_version": 3,
     "solution": true,
     "task": false
    }
   },
   "outputs": [],
   "source": [
    "def get_canon(kmer):\n",
    "    # Return the canonical kmer\n",
    "    raise NotImplementedError"
   ]
  },
  {
   "cell_type": "markdown",
   "metadata": {},
   "source": [
    "## Task 2 - Extract kmers and their locations"
   ]
  },
  {
   "cell_type": "markdown",
   "metadata": {},
   "source": [
    "<div class=\"info\">\n",
    "\n",
    "<b>Task 2:</b> Write a function that takes as input a Seq object and returns a list of (kmer,position) pairs.\n",
    "\n",
    "- [ ] Input: Biopython Seq object; and kmer length 'k'.\n",
    "- [ ] Extract kmers  \n",
    "- [ ] Output: tuples of (kmer,position) pairs\n",
    "- [ ] Output may be a list or an iterator\n",
    "    \n",
    "<b>Bonus challange:</b> Modify your function to skip any kmer containing the character 'N' which signifies an unknown base.\n",
    "    \n",
    "    \n",
    "Notes: \n",
    "- Enumerate will not work inside a `yield` statement.\n",
    "- If you choose to write this function as an iterator remember it can only be consumed once.\n",
    "\n",
    "</div>"
   ]
  },
  {
   "cell_type": "code",
   "execution_count": null,
   "metadata": {
    "nbgrader": {
     "grade": false,
     "grade_id": "T2",
     "locked": false,
     "schema_version": 3,
     "solution": true,
     "task": false
    }
   },
   "outputs": [],
   "source": [
    "def kmer_locs(sequence, k = 5):\n",
    "    # Get kmers from seq object\n",
    "    # Output kmers and their location as (kmer,location) tuples.\n",
    "    raise NotImplementedError"
   ]
  },
  {
   "cell_type": "code",
   "execution_count": null,
   "metadata": {},
   "outputs": [],
   "source": [
    "# Test it out\n",
    "[print(k, i) for k, i in kmer_locs(Seq('ATGGNGTCGGNTTTT'), k = 4)]"
   ]
  },
  {
   "cell_type": "markdown",
   "metadata": {},
   "source": [
    "### Comparee the space complexity between `yield` and `return`\n",
    "\n",
    "Here we will rewrite the function using return instead of yield, and compare the complexity."
   ]
  },
  {
   "cell_type": "code",
   "execution_count": null,
   "metadata": {},
   "outputs": [],
   "source": [
    "def kmer_locs_in_memory(sequence, k = 5):\n",
    "    kmer_list = []\n",
    "\n",
    "    for i in range(len(sequence) - k + 1):\n",
    "        kmer = sequence[i : i + k]\n",
    "        if 'N' in kmer:\n",
    "            continue\n",
    "        else:\n",
    "            kmer_list.append((kmer, i))\n",
    "    return kmer_list"
   ]
  },
  {
   "cell_type": "code",
   "execution_count": null,
   "metadata": {},
   "outputs": [],
   "source": [
    "# Space complexity compare\n",
    "import tracemalloc\n",
    "import numpy as np\n",
    "import matplotlib.pyplot as plt\n",
    "from tqdm import tqdm\n",
    "\n",
    "# Randopm sequence generator\n",
    "def generate_dna_sequence_numpy(length):\n",
    "    nucleotides = ['A', 'T', 'C', 'G']\n",
    "    return Seq(''.join(np.random.choice(nucleotides, size = length)))\n",
    "\n",
    "# Helper function to measure space complexity - similar to week1\n",
    "def measure_space_complexity(kmer_func, sequence):\n",
    "    \"\"\"Measure peak memory usage during sorting\"\"\"\n",
    "    peak_memories = []\n",
    "    # Start memory tracking\n",
    "    tracemalloc.start()\n",
    "    # Run the sorting algorithm\n",
    "    kmer_func(sequence)\n",
    "    # Get peak memory usage\n",
    "    current, peak = tracemalloc.get_traced_memory()\n",
    "    peak_memories.append(peak)\n",
    "    # Stop memory tracking\n",
    "    tracemalloc.stop()\n",
    "    # Return average peak memory usage in bytes\n",
    "    return sum(peak_memories) / len(peak_memories)\n",
    "\n",
    "# Test different array sizes\n",
    "n_items = list(range(10000, 100000, 10000))\n",
    "\n",
    "# Measure space complexity\n",
    "generator_space = []\n",
    "list_space = []\n",
    "\n",
    "# For loop wih progress bar\n",
    "for n in tqdm(n_items):\n",
    "    # Generate test array\n",
    "    long_dna_sequence = generate_dna_sequence_numpy(n)\n",
    "    # Measure space for selection sort\n",
    "    space_yield = measure_space_complexity(kmer_locs, long_dna_sequence)\n",
    "    generator_space.append(space_yield / 1024 / 1024)\n",
    "    # Measure space for merge sort  \n",
    "    space_return = measure_space_complexity(kmer_locs_in_memory, long_dna_sequence)\n",
    "    list_space.append(space_return / 1024 / 1024)\n",
    "\n",
    "plt.plot(n_items, generator_space, 'r-o', label='Generator O(1)', linewidth=2)\n",
    "plt.plot(n_items, list_space, 'g-o', label='Regular List O(n)', linewidth=2)\n",
    "plt.title('Space Complexity')\n",
    "plt.xlabel('Sequence Length (n)')\n",
    "plt.ylabel('Peak Memory Usage (MB)')\n",
    "plt.legend()\n",
    "plt.grid(True, alpha=0.3)"
   ]
  },
  {
   "cell_type": "markdown",
   "metadata": {},
   "source": [
    "## Task 3 - Populate hashtable with kmer locations"
   ]
  },
  {
   "cell_type": "markdown",
   "metadata": {},
   "source": [
    "<div class=\"info\">\n",
    "\n",
    "<b>Task 3:</b> \n",
    "    \n",
    "Write a function that takes a list of (kmer, location) tuples as input and inserts them into a python dictionary. \n",
    "    \n",
    "Return a dict with the structure:\n",
    "\n",
    "`kmer_dict[index] = (kmer, [locations])`\n",
    "\n",
    "Your function should: \n",
    "- [ ] Input: \n",
    "    - List of (kmer, location) tuples; \n",
    "- [ ] Treat the kmer as a Bio.Seq object\n",
    "- [ ] Convert each kmer to its canonical form \n",
    "- [ ] Check if the canonical kmer is already in the dict\n",
    "- [ ] Append the location to the list if occupied, create new list otherwise\n",
    "- [ ] Output: return your dictionary\n",
    "\n",
    "Notes: \n",
    "- Python dictionary will overwrite the value if the key already exists\n",
    "\n",
    "</div>"
   ]
  },
  {
   "cell_type": "code",
   "execution_count": null,
   "metadata": {
    "nbgrader": {
     "grade": false,
     "grade_id": "T3",
     "locked": false,
     "schema_version": 3,
     "solution": true,
     "task": false
    }
   },
   "outputs": [],
   "source": [
    "def build_hash_table(kmer_list):\n",
    "    # Builds and returns kmer index as hash table.\n",
    "    # Collisions resolved using linear probing.\n",
    "    raise NotImplementedError"
   ]
  },
  {
   "cell_type": "code",
   "execution_count": null,
   "metadata": {
    "scrolled": false
   },
   "outputs": [],
   "source": [
    "# Example usage:\n",
    "kmer_list = kmer_locs(Seq('ATGGNGTCGGNTTTTATATCTGTCTCGATATAGCCGAGCGCTCGCATCA'), k = 3)\n",
    "test_hash_table = build_hash_table(kmer_list)\n",
    "test_hash_table"
   ]
  },
  {
   "cell_type": "markdown",
   "metadata": {},
   "source": [
    "# Map a long read to a genome\n",
    "\n",
    "We have a long read `phiX_read` that has been obtained by sequencing the PhiX bacteriophage genome `phiX_genome`.\n",
    "\n",
    "There are some sequencing errors in this read so it does not match the genome perfectly. \n",
    "\n",
    "Your challange is to figure out where the read maps to by:\n",
    "\n",
    "A) Building a hashtable index of the PhiX genome, and \n",
    "\n",
    "B) Extracting kmers from the sequencing read and looking up their location/s in the genome index.\n",
    "\n"
   ]
  },
  {
   "cell_type": "markdown",
   "metadata": {},
   "source": [
    "First, we will import these sequences using Biopython as SeqRecord objects. <br>\n",
    "Explore the attributes of this object.\n",
    "Where is the sequence stored?"
   ]
  },
  {
   "cell_type": "code",
   "execution_count": null,
   "metadata": {},
   "outputs": [],
   "source": [
    "from Bio import SeqIO\n",
    "\n",
    "# Import with biopython as seqrecord objects\n",
    "phiX_read = SeqIO.read('data/phi-X174-420bp.fa', \"fasta\")\n",
    "phiX_genome = SeqIO.read('data/phi-X174-genome.fa', \"fasta\")"
   ]
  },
  {
   "cell_type": "markdown",
   "metadata": {},
   "source": [
    "If you wanted to manually read in a single fasta record as a string, you could do this:"
   ]
  },
  {
   "cell_type": "code",
   "execution_count": null,
   "metadata": {},
   "outputs": [],
   "source": [
    "# Or read it ourselves, assuming a file with one FASTA record\n",
    "with open('data/phi-X174-genome.fa') as f:\n",
    "    _identifier_row = f.readline()\n",
    "    # Read the rest of the lines and join them into one string\n",
    "    phiX = ''.join([row.strip() for row in f.readlines()])"
   ]
  },
  {
   "cell_type": "markdown",
   "metadata": {},
   "source": [
    "Next, we will use functions that we wrote in the previous section to build an hash table index for the PhiX genome."
   ]
  },
  {
   "cell_type": "code",
   "execution_count": null,
   "metadata": {},
   "outputs": [],
   "source": [
    "# Extract kmers and their locations from the PhiX genome\n",
    "genome_kmers = kmer_locs(phiX_genome.seq, k = 4) \n",
    "# Note: The phiX_genome is a SeqRecord we need to access the Seq attribute using '.seq'\n",
    "\n",
    "# Index the PhiX genome using your build_hash_table() function\n",
    "genome_hash_table = build_hash_table(genome_kmers)"
   ]
  },
  {
   "cell_type": "markdown",
   "metadata": {},
   "source": [
    "<div class=\"info\">\n",
    "\n",
    "<b>Challange:</b> Write a <b>generator</b> function that extracts kmers from a query sequence and looks up their location/s from a precalculated hashtable.\n",
    "    \n",
    "- [ ] Inputs:\n",
    "    - A query read as Bio.Seq object,\n",
    "    - A genome index (hashtable),\n",
    "    - The length k used to build the index,\n",
    "    - The size of the hashtable.\n",
    "- [ ] Output: <i>yield</i> (x, y) tuples where x is a kmer location in the read and y is the location of that kmer in the genome.\n",
    "\n",
    "**Note:** If a kmer occurs many times in the genome you should return all locations i.e. `[(x1, y1), (x1, y2)...]`\n",
    "</div>"
   ]
  },
  {
   "cell_type": "code",
   "execution_count": null,
   "metadata": {
    "nbgrader": {
     "grade": false,
     "grade_id": "C1",
     "locked": false,
     "schema_version": 3,
     "solution": true,
     "task": false
    }
   },
   "outputs": [],
   "source": [
    "def mapKmers(read, hash_table = {}, k = 3):\n",
    "    # extracts kmers from a query sequence and looks up their genomic locations using kmerLookup() function. \n",
    "    raise NotImplementedError"
   ]
  },
  {
   "cell_type": "markdown",
   "metadata": {},
   "source": [
    "Finally use matplotlib to plot the list of (x, y) coords that were generated by the previous function as a scatterplot."
   ]
  },
  {
   "cell_type": "code",
   "execution_count": null,
   "metadata": {},
   "outputs": [],
   "source": [
    "%matplotlib inline\n",
    "import matplotlib.pyplot as plt\n",
    "\n",
    "# Let's assign the output of our mapping function to a variable\n",
    "xy_generator = mapKmers(read = phiX_read.seq, \n",
    "                        hash_table = genome_hash_table, \n",
    "                        k = 4)\n",
    "\n",
    "# Lists to store x and y values\n",
    "x_values = []\n",
    "y_values = []\n",
    "\n",
    "# Iterate over the generator and extract the x and y values\n",
    "for x, y in xy_generator:\n",
    "    x_values.append(x)\n",
    "    y_values.append(y)\n",
    "\n",
    "# Create the scatter plot\n",
    "plt.scatter(x_values, y_values, s = 1)\n",
    "plt.xlim(0, len(phiX_read.seq))\n",
    "plt.ylim(0, len(phiX_genome.seq))\n",
    "plt.xlabel('PhiX read')  # Add X-axis label if needed\n",
    "plt.ylabel('PhiX Genome')  # Add Y-axis label if needed\n",
    "plt.title('PhiX read kmer matches in genome')\n",
    "plt.show()"
   ]
  },
  {
   "cell_type": "markdown",
   "metadata": {},
   "source": [
    "This should look like a right mess! We have used a very small kmer size to compare our read to the genome.\n",
    "\n"
   ]
  },
  {
   "cell_type": "markdown",
   "metadata": {},
   "source": [
    "Let's rebuild our genome index using a larger value of k to see if we can improve the specificity of our matches.\n",
    "\n",
    "Remember to increase the size of the hash table to accomodate the extra kmers!"
   ]
  },
  {
   "cell_type": "code",
   "execution_count": null,
   "metadata": {
    "scrolled": true
   },
   "outputs": [],
   "source": [
    "# Increase the size of k to improve the specificity of our read mapping\n",
    "# You may also need to increase the hash table size to accomodate all the new kmers!\n",
    "k = 20\n",
    "table_size = 10000\n",
    "\n",
    "\n",
    "# Extract kmers and their locations from the PhiX genome\n",
    "genome_kmers = kmer_locs(phiX_genome.seq, k = k) \n",
    "# Note: The phiX_genome is a SeqRecord we need to access the Seq attribute using '.seq'\n",
    "\n",
    "# Index the PhiX genome using your build_hash_table() function\n",
    "large_genome_hash_table = build_hash_table(genome_kmers)\n",
    "\n",
    "# Let's assign the output of our mapping function to a variable\n",
    "xy_generator = mapKmers(read = phiX_read.seq, \n",
    "                        hash_table = large_genome_hash_table, \n",
    "                        k = k)\n",
    "\n",
    "# Lists to store x and y values\n",
    "x_values = []\n",
    "y_values = []\n",
    "\n",
    "# Iterate over the generator and extract the x and y values\n",
    "for x, y in xy_generator:\n",
    "    x_values.append(x)\n",
    "    y_values.append(y)\n",
    "\n",
    "# Create the scatter plot\n",
    "plt.scatter(x_values, y_values, s=1)\n",
    "plt.xlim(0, len(phiX_read.seq))\n",
    "plt.ylim(0, len(phiX_genome.seq))\n",
    "plt.xlabel('PhiX read')  # Add X-axis label if needed\n",
    "plt.ylabel('PhiX Genome')  # Add Y-axis label if needed\n",
    "plt.title('PhiX read kmer matches in genome')\n",
    "plt.show()"
   ]
  },
  {
   "cell_type": "markdown",
   "metadata": {},
   "source": [
    "Workshop developed by Adam Taranto, Liwen Li, and Grace Hall."
   ]
  }
 ],
 "metadata": {
  "celltoolbar": "Create Assignment",
  "kernelspec": {
   "display_name": "venv",
   "language": "python",
   "name": "python3"
  },
  "language_info": {
   "codemirror_mode": {
    "name": "ipython",
    "version": 3
   },
   "file_extension": ".py",
   "mimetype": "text/x-python",
   "name": "python",
   "nbconvert_exporter": "python",
   "pygments_lexer": "ipython3",
   "version": "3.13.3"
  }
 },
 "nbformat": 4,
 "nbformat_minor": 4
}
