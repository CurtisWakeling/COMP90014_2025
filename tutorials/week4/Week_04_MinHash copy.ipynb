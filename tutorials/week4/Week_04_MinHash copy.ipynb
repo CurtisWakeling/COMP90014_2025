{
 "cells": [
  {
   "cell_type": "markdown",
   "metadata": {},
   "source": [
    "# Week 4 - MinHash"
   ]
  },
  {
   "cell_type": "markdown",
   "metadata": {},
   "source": [
    "<div style=\"color: rgb(27,94,32); background: rgb(200,230,201); border: solid 1px rgb(129,199,132); padding: 10px;\">\n",
    "\n",
    "Working with sets, minhash, and comparing sequences.\n",
    "\n",
    "</div>"
   ]
  },
  {
   "cell_type": "markdown",
   "metadata": {},
   "source": [
    "## Setup"
   ]
  },
  {
   "cell_type": "markdown",
   "metadata": {},
   "source": [
    "Make sure you have `python >= 3.10`. Check using `python --version` or `python3 --version`.\n",
    "\n",
    "**Week 4 packages**\n",
    "\n",
    "This week we will use:\n",
    "- biopython\n",
    "- ipykernel\n",
    "- seaborn"
   ]
  },
  {
   "cell_type": "markdown",
   "metadata": {},
   "source": [
    "\n",
    "**Week 4 data**\n",
    "\n",
    "This week we will be comparing entire bacterial genomes for similarity using MinHash. <br>\n",
    "The 4 genomes we will use are in the `./data` folder within `week4/`.\n"
   ]
  },
  {
   "cell_type": "markdown",
   "metadata": {},
   "source": [
    "## Working with Sets\n",
    "\n",
    "In Python sets are an unordered collection of unique elements. Sets are similar to lists and tuples, but unlike lists and tuples, sets cannot contain duplicate values. \n",
    "\n",
    "We can use sets for tasks that involve handling unique items, such as removing duplicates from a list or testing membership in a collection."
   ]
  },
  {
   "cell_type": "code",
   "execution_count": null,
   "metadata": {},
   "outputs": [],
   "source": [
    "# Create sets in Python\n",
    "empty_set = set()\n",
    "my_set = {3, 4, 5, 12, 123}\n",
    "my_set"
   ]
  },
  {
   "cell_type": "code",
   "execution_count": null,
   "metadata": {},
   "outputs": [],
   "source": [
    "# Convert a list to a set\n",
    "set([4, 3, 2, 1, 4, 4])"
   ]
  },
  {
   "cell_type": "code",
   "execution_count": null,
   "metadata": {},
   "outputs": [],
   "source": [
    "# Convert a set to a list, order not guaranteed\n",
    "list(my_set)"
   ]
  },
  {
   "cell_type": "markdown",
   "metadata": {},
   "source": [
    "Adding and Removing Elements:\n",
    "\n",
    "You can add elements to a set using the add() method and remove elements using the remove() or discard() methods.\n",
    "\n",
    "Note: discard() does not raise an error if if the element is not found"
   ]
  },
  {
   "cell_type": "code",
   "execution_count": null,
   "metadata": {},
   "outputs": [],
   "source": [
    "my_set.add(6)\n",
    "my_set.remove(3)\n",
    "print(my_set)"
   ]
  },
  {
   "cell_type": "code",
   "execution_count": null,
   "metadata": {},
   "outputs": [],
   "source": [
    "# Membership Testing: You can test if an element is in a set using the in keyword.\n",
    "if 6 in my_set:\n",
    "    print(\"6 is in the set\")"
   ]
  },
  {
   "cell_type": "code",
   "execution_count": null,
   "metadata": {},
   "outputs": [],
   "source": [
    "# You can get the number of elements in a set using the len() function.\n",
    "len(my_set)"
   ]
  },
  {
   "cell_type": "code",
   "execution_count": null,
   "metadata": {},
   "outputs": [],
   "source": [
    "# You can get the minimum element in a set using the min() function.\n",
    "min(my_set)"
   ]
  },
  {
   "cell_type": "markdown",
   "metadata": {},
   "source": [
    "### Set Operations:\n",
    "\n",
    "Sets support various operations such as union, intersection, difference, and symmetric difference.\n",
    "\n",
    "Union (|): Combines two sets and returns a new set with all unique elements."
   ]
  },
  {
   "cell_type": "code",
   "execution_count": null,
   "metadata": {},
   "outputs": [],
   "source": [
    "set1 = {1, 2, 3}\n",
    "set2 = {3, 4, 5}\n",
    "union_set = set1 | set2\n",
    "print(union_set)"
   ]
  },
  {
   "cell_type": "markdown",
   "metadata": {},
   "source": [
    "For python <= 3.9, you will have to use the 'union()' function, rather than the '|' operator.\n",
    " \n",
    "You can use .union(), .intersection(), .difference(), and .symmetric_difference() instead of '|', '&', '-' and '^'. "
   ]
  },
  {
   "cell_type": "code",
   "execution_count": null,
   "metadata": {},
   "outputs": [],
   "source": [
    "set1 = {1, 2, 3}\n",
    "set2 = {3, 4, 5}\n",
    "union_set = set1.union(set2)\n",
    "print(union_set)"
   ]
  },
  {
   "cell_type": "markdown",
   "metadata": {},
   "source": [
    "Intersection (&): Returns a new set containing elements that are in both sets."
   ]
  },
  {
   "cell_type": "code",
   "execution_count": null,
   "metadata": {},
   "outputs": [],
   "source": [
    "intersection_set = set1 & set2\n",
    "print(intersection_set)"
   ]
  },
  {
   "cell_type": "markdown",
   "metadata": {},
   "source": [
    "Difference (-): Returns a new set with elements from the first set that are not in the second set.\n",
    "\n",
    "Also called the \"exclusion\""
   ]
  },
  {
   "cell_type": "code",
   "execution_count": null,
   "metadata": {},
   "outputs": [],
   "source": [
    "# In set1 and not in set2\n",
    "difference_set = set1 - set2\n",
    "print(difference_set)"
   ]
  },
  {
   "cell_type": "markdown",
   "metadata": {},
   "source": [
    "Symmetric Difference (^): Returns a new set with elements that are in either of the sets but not in both.\\\n",
    "(Similar to exclusive or, XOR)"
   ]
  },
  {
   "cell_type": "code",
   "execution_count": null,
   "metadata": {},
   "outputs": [],
   "source": [
    "# Unique to either set, not shared\n",
    "symmetric_difference_set = set1 ^ set2\n",
    "print(symmetric_difference_set)"
   ]
  },
  {
   "cell_type": "markdown",
   "metadata": {},
   "source": [
    "## Exercise 1: True Jaccard Similarity Coefficient (Jaccard Index)"
   ]
  },
  {
   "cell_type": "markdown",
   "metadata": {},
   "source": [
    "<div style=\"color: rgb(27,94,32); background: rgb(200,230,201); border: solid 1px rgb(129,199,132); padding: 10px;\">\n",
    "\n",
    "<b>Challange:</b> Calculate jaccard for kmer sets. The Jaccard similarity is the `intersection / union`.\n",
    "    \n",
    "- Input: Two kmer sets\n",
    "- Output: Jaccard dist of the sets\n",
    "    \n",
    "</div>"
   ]
  },
  {
   "cell_type": "code",
   "execution_count": null,
   "metadata": {},
   "outputs": [],
   "source": [
    "def jaccard(a: set, b: set) -> float:\n",
    "    intersection = a & b \n",
    "    union = a | b\n",
    "    result =  len(intersection) / len(union)\n",
    "    return result"
   ]
  },
  {
   "cell_type": "markdown",
   "metadata": {},
   "source": [
    "<div style=\"color: rgb(27,94,32); background: rgb(200,230,201); border: solid 1px rgb(129,199,132); padding: 10px;\"></div>"
   ]
  },
  {
   "cell_type": "code",
   "execution_count": null,
   "metadata": {},
   "outputs": [],
   "source": [
    "# Test your Jaccard function\n",
    "set1 = set([1, 2, 3, 4, 5])\n",
    "set2 = set([4, 5, 6, 7, 8])\n",
    "print(jaccard(set1, set2))    # should equal 0.25"
   ]
  },
  {
   "cell_type": "markdown",
   "metadata": {},
   "source": [
    "<div style=\"color: rgb(27,94,32); background: rgb(200,230,201); border: solid 1px rgb(129,199,132); padding: 10px;\">\n",
    "\n",
    "<b>Challange:</b> Write a function that returns a set of all unique kmers in a sequence. \n",
    "    \n",
    "- Input: \n",
    "    - A DNA string or Seq object\n",
    "    - kmer len `k`\n",
    "- Extract kmers from the input seq\n",
    "- Output: Return set of all kmers\n",
    "    \n",
    "</div>"
   ]
  },
  {
   "cell_type": "code",
   "execution_count": null,
   "metadata": {},
   "outputs": [],
   "source": [
    "def extract_kmers(seq: str, k: int) -> set:\n",
    "    \"\"\"\n",
    "    Extracts all kmers & returns as set.\n",
    "    Hint: To add new_item to my_set: my_set.add(new_item)\n",
    "    \"\"\"\n",
    "    my_set = set([])\n",
    "    for i in range(len(seq) - k+1):\n",
    "        my_set.add(seq[i : i + k])\n",
    "\n",
    "    return my_set"
   ]
  },
  {
   "cell_type": "markdown",
   "metadata": {},
   "source": [
    "<div style=\"color: rgb(27,94,32); background: rgb(200,230,201); border: solid 1px rgb(129,199,132); padding: 10px;\"></div>"
   ]
  },
  {
   "cell_type": "code",
   "execution_count": null,
   "metadata": {},
   "outputs": [],
   "source": [
    "# Test your function\n",
    "seq = 'AGTACGGT'\n",
    "# should equal {'TACG', 'GTAC', 'CGGT', 'ACGG', 'AGTA'}, order doesn't matter\n",
    "print(extract_kmers(seq, 4))"
   ]
  },
  {
   "cell_type": "markdown",
   "metadata": {},
   "source": [
    "<div style=\"color: rgb(27,94,32); background: rgb(200,230,201); border: solid 1px rgb(129,199,132); padding: 10px;\">\n",
    "    \n",
    "<b>Challange:</b> Combine the above functions to return jaccard index for two sequences and a kmer size k\n",
    "    \n",
    "</div>\n"
   ]
  },
  {
   "cell_type": "code",
   "execution_count": null,
   "metadata": {},
   "outputs": [],
   "source": [
    "def true_jaccard_similarity(seqA: str, seqB: str, k: int) -> float:\n",
    "    setA = extract_kmers(seq = seqA, k = k)\n",
    "    print('set A:', setA)\n",
    "    setB = extract_kmers(seq = seqB, k = k)\n",
    "    print('set B:', setB)\n",
    "    return jaccard(setA,setB)"
   ]
  },
  {
   "cell_type": "markdown",
   "metadata": {},
   "source": [
    "<div style=\"color: rgb(27,94,32); background: rgb(200,230,201); border: solid 1px rgb(129,199,132); padding: 10px;\"></div>"
   ]
  },
  {
   "cell_type": "code",
   "execution_count": null,
   "metadata": {},
   "outputs": [],
   "source": [
    "# identical\n",
    "seqA = 'AGTACGGTCAGTAGTCGC'\n",
    "seqB = 'AGTACGGTCAGTAGTCGC'\n",
    "j = true_jaccard_similarity(seqA, seqB, 4)\n",
    "print(f'identical sequences true jaccard: {j:.2f}')   # should equal 1.0\n",
    "\n",
    "# single mismatch \n",
    "seqA = 'AGTACGGTAAGTAGTCGC'\n",
    "seqB = 'AGTACGGTTAGTAGTCGC'\n",
    "j = true_jaccard_similarity(seqA, seqB, 4)\n",
    "print(f'single mismatch true jaccard: {j:.2f}')       # should equal 0.59\n",
    "\n",
    "# single indel\n",
    "seqA = 'AGTACGGTAAAGTAGTCGC'\n",
    "seqB = 'AGTACGGTAAGTAGTCGC'\n",
    "j = true_jaccard_similarity(seqA, seqB, 4) \n",
    "print(f'single indel jaccard: {j:.2f}')               # should equal 0.81\n"
   ]
  },
  {
   "cell_type": "markdown",
   "metadata": {},
   "source": [
    "## Exercise 2: MinHash sketches\n",
    "\n",
    "In exercise 1 we compared kmer similarity between two sequences by calculating a ***true*** jaccard index.  <br>\n",
    "All kmers from each sequences were used. This can be time consuming if we are comparing lots of sequences.\n",
    "\n",
    "To reduce runtime, we can create a 'MinHash sketch', which acts as a kmer 'fingerprint' of a sequence. <br>\n",
    "By comparing these sketches (which are tiny in comparison), rather than the full kmer sets, we can ***estimate*** the jaccard index in a fraction of the time.\n",
    "\n",
    "**Note:** When comparing only two sequences, MinHash will not reduce runtime."
   ]
  },
  {
   "cell_type": "markdown",
   "metadata": {},
   "source": [
    "\n",
    "<div style=\"color: rgb(27,94,32); background: rgb(200,230,201); border: solid 1px rgb(129,199,132); padding: 10px;\">\n",
    "\n",
    "<b>Challange:</b> Write a function that returns a Minhash Sketch of a DNA sequence. The sketch should be a set containing the bottom `s` hash values of kmers extracted from the input sequence`. Use python default hash() function.\n",
    "\n",
    "- Input: \n",
    "    - A DNA string\n",
    "    - kmer len `k`\n",
    "    - the number of min. hash values `s` to store in the sketch \n",
    "- Output: Return a set of the smallest `s` hash values\n",
    "\n",
    "Process:\n",
    "- Calculate hash values using hash()\n",
    "- Pick the smallest `s` values and return as a set\n",
    "\n",
    "Hint:\n",
    "- You can sort a list using sorted() function.\n",
    "    \n",
    "</div>"
   ]
  },
  {
   "cell_type": "code",
   "execution_count": null,
   "metadata": {
    "nbgrader": {
     "grade": false,
     "grade_id": "E1",
     "locked": false,
     "schema_version": 3,
     "solution": true,
     "task": false
    }
   },
   "outputs": [],
   "source": [
    "def minhash_sketch(seq: str, k: int, s: int) -> set:\n",
    "    \"\"\"\n",
    "    Calulate minhash sketch from DNA sequence.\n",
    "    \"\"\"\n",
    "    hashed_kmers = []\n",
    "    for i in range(len(seq) - k+1):\n",
    "        kmer = seq[i:i+k]\n",
    "        kmer_hash = hash(kmer)\n",
    "        hashed_kmers.append(kmer_hash)\n",
    "\n",
    "\n",
    "    hashed_kmers = sorted(hashed_kmers)\n",
    "    return hashed_kmers[0:s]"
   ]
  },
  {
   "cell_type": "markdown",
   "metadata": {},
   "source": [
    "<div style=\"color: rgb(27,94,32); background: rgb(200,230,201); border: solid 1px rgb(129,199,132); padding: 10px;\"></div>"
   ]
  },
  {
   "cell_type": "code",
   "execution_count": null,
   "metadata": {},
   "outputs": [],
   "source": [
    "# First 100 bases of our first SeqRecord\n",
    "seq = 'AGCTTTTCATTCTGACTGCAACGGGCAATATGTCTCTGTGTGGATTAAAAAAAGAGTGTCTGATAGCAGC'\n",
    "minhash_sketch(seq, k = 5, s = 10)"
   ]
  },
  {
   "cell_type": "markdown",
   "metadata": {},
   "source": [
    "## Exercise 3: MinHash Jaccard Similarity"
   ]
  },
  {
   "cell_type": "markdown",
   "metadata": {},
   "source": [
    "Genomes that share kmers also share kmer hash values, and therefore may have similar MinHash sketches. <br>\n",
    "We can rapidly ***estimate*** the similarity of multiple sequences by calculating the Jaccard similarity using MinHash sketches as input.\n",
    "\n",
    "For demonstration purpose, we'll be comparing only two sequences. In reality, we should use MinHash only when comparing multiple sequences.\n",
    "\n",
    "Remember these similarity are estimates only, as we've taken a kmer sample from both sequences.\n",
    "\n",
    "Using our minhash_sketch() function from earlier, let's test it on two identical sequences."
   ]
  },
  {
   "cell_type": "code",
   "execution_count": null,
   "metadata": {},
   "outputs": [],
   "source": [
    "# identical sequences: prove that minhash works & jaccard would be 1\n",
    "seqA = 'AGTACGGTAGATGCGTTGTGCATGACTGATGCTAGAGTCTGCTACGTAGCGACAGCTTGCAGTCATGC'\n",
    "seqB = 'AGTACGGTAGATGCGTTGTGCATGACTGATGCTAGAGTCTGCTACGTAGCGACAGCTTGCAGTCATGC'\n",
    "\n",
    "sketchA = minhash_sketch(seqA, 4, 8)\n",
    "print(f'sketchA: {sketchA}')\n",
    "\n",
    "sketchB = minhash_sketch(seqB, 4, 8)\n",
    "print(f'sketchB: {sketchB}')\n",
    "\n",
    "A = set(sketchA)\n",
    "B = set(sketchB)\n",
    "\n",
    "jaccard(A,B)"
   ]
  },
  {
   "cell_type": "code",
   "execution_count": null,
   "metadata": {},
   "outputs": [],
   "source": [
    "# We can check these are the same using an assert statement\n",
    "assert sketchA == sketchB"
   ]
  },
  {
   "cell_type": "markdown",
   "metadata": {},
   "source": [
    "Now lets make the sequences slightly different"
   ]
  },
  {
   "cell_type": "code",
   "execution_count": null,
   "metadata": {},
   "outputs": [],
   "source": [
    "# Different sequences: show that most min 8 hash values match\n",
    "seqA = 'AGTACGGTACATCCGTTGGGC'\n",
    "seqB = 'AGTACGGTACATGCGTTGC'\n",
    "\n",
    "sketchA = minhash_sketch(seqA, 4, 8)\n",
    "sketchB = minhash_sketch(seqB, 4, 8)\n",
    "\n",
    "if sketchA != sketchB:\n",
    "    print('sketches not same!')\n",
    "    \n",
    "print(f'sketchA: {sketchA}')\n",
    "print(f'sketchB: {sketchB}')"
   ]
  },
  {
   "cell_type": "markdown",
   "metadata": {},
   "source": [
    "<div style=\"color: rgb(27,94,32); background: rgb(200,230,201); border: solid 1px rgb(129,199,132); padding: 10px;\">\n",
    "<b>Challange:</b> Calculate the Jaccard similarity between two Minhash sketches (Minhash similarity)\n",
    "    \n",
    "- Input: \n",
    "    - Two sets DNA seqs\n",
    "    - kmer len k\n",
    "    - Number of minimizers m\n",
    "- Calculate minhash sketch for each input seq\n",
    "- Return: Jaccard similarity between the two minhash sketches\n",
    "</div>"
   ]
  },
  {
   "cell_type": "code",
   "execution_count": null,
   "metadata": {
    "nbgrader": {
     "grade": false,
     "grade_id": "3a",
     "locked": false,
     "schema_version": 3,
     "solution": true,
     "task": false
    }
   },
   "outputs": [],
   "source": [
    "def minhash_jaccard_similarity(seqA: str, seqB: str, k: int, s: int) -> float:\n",
    "    minhash_sketch_A = minhash_sketch(seqA, k = k, s = s)\n",
    "    minhash_sketch_B = minhash_sketch(seqB, k = k, s = s)\n",
    "    a = set(minhash_sketch_A)\n",
    "    b = set(minhash_sketch_B)\n",
    "\n",
    "\n",
    "    print('a:', a)\n",
    "    print('b:', b)\n",
    "    return jaccard(a=a, b=b)\n"
   ]
  },
  {
   "cell_type": "markdown",
   "metadata": {},
   "source": [
    "<div style=\"color: rgb(27,94,32); background: rgb(200,230,201); border: solid 1px rgb(129,199,132); padding: 10px;\"></div>"
   ]
  },
  {
   "cell_type": "code",
   "execution_count": null,
   "metadata": {},
   "outputs": [],
   "source": [
    "# identical sequences \n",
    "print('IDENTICAL')\n",
    "seqA = 'AGTACGGTACATGCGTTGC'\n",
    "seqB = 'AGTACGGTACATGCGTTGC'\n",
    "jt = true_jaccard_similarity(seqA, seqB, k=4)\n",
    "jm = minhash_jaccard_similarity(seqA, seqB, k=4, s=10)\n",
    "print(f'True Jaccard for identical sequences: {jt:.2f}')       # should equal 1.00\n",
    "print(f'MinHash Jaccard for identical sequences: {jm:.2f}')    # should approximate 1.00\n",
    "print()\n",
    "\n",
    "# different sequences: \n",
    "# - might get different values for minhash jaccard based on hash seed\n",
    "print('DIFFERENT')\n",
    "seqA = 'AGTACGGTAGATGCGTTGTGCATGACTGATGCTAGAGTCTGCTACGTAGCGACAGCTTGCAGTCATGC'\n",
    "seqB = 'AGTACGGTACATGCGTTGTGCACGACTGATGCTAGAGTCTGCTACGTAGCGACAGCTTGCAAGTCATGC'\n",
    "jt = true_jaccard_similarity(seqA, seqB, k=4)\n",
    "jm = minhash_jaccard_similarity(seqA, seqB, k=4, s=10)\n",
    "print(f'True Jaccard for different sequences: {jt:.2f}')      # should equal 0.77\n",
    "print(f'MinHash Jaccard for different sequences: {jm:.2f}')   # should approximate 0.77\n",
    "\n"
   ]
  },
  {
   "cell_type": "markdown",
   "metadata": {},
   "source": [
    "## Exercise 4: Minimizer Jaccard Similarity"
   ]
  },
  {
   "cell_type": "markdown",
   "metadata": {},
   "source": [
    "MinHash is useful when comparing lots of sequences, but it doesn't improve the speed or memory cost for two long sequences. For a long sequence, extract all the kmers can be time and memory consuming.\n",
    "\n",
    "**Minimizer:** Select the `minimum kmer` from a `window` according to `a deterministic order`. Windows should overlap by k-1 to extract kmers at boundaries.\n",
    "\n",
    "In this exercise, we will use lexicographical order.\n",
    "**Note:** lexicographical order might be prone to GC bias. Thus, use a MinHash order can be a better choice.\n",
    "\n",
    "Load bacterial genomes from file using BioPython."
   ]
  },
  {
   "cell_type": "code",
   "execution_count": null,
   "metadata": {},
   "outputs": [],
   "source": [
    "# load bacterial genomes\n",
    "import gzip\n",
    "from Bio import SeqIO\n",
    "\n",
    "genome_filepaths = [\n",
    "    'data/NC_000913.fasta.gz',\n",
    "    'data/NC_002695.fasta.gz',\n",
    "    'data/NC_003197.fasta.gz',\n",
    "    'data/NC_021870.fasta.gz',\n",
    "]\n",
    "genomes = []\n",
    "for filepath in genome_filepaths:\n",
    "    with gzip.open(filepath, \"rt\") as fp:\n",
    "        seq = next(SeqIO.parse(fp, \"fasta\"))\n",
    "    genomes.append(seq)"
   ]
  },
  {
   "cell_type": "markdown",
   "metadata": {},
   "source": [
    "<div style=\"color: rgb(27,94,32); background: rgb(200,230,201); border: solid 1px rgb(129,199,132); padding: 10px;\">\n",
    "\n",
    "<b>Challange:</b> Write a function that returns a Minimizer Sketch of a DNA sequence. The sketch should be a set containing the lexicographically minimum kmer in each window of the input sequence.\n",
    "\n",
    "- Input: \n",
    "    - A DNA string\n",
    "    - kmer len `k`\n",
    "    - The number of minimizer kmers `s` to store in the sketch\n",
    "- Output: Return a set of minimizer kmers with size `s`\n",
    "\n",
    "Process:\n",
    "- Calculate the stride size according to sequence length and sketch size `s`\n",
    "- Extract the kmers in each window, and pick the lexicographically minimum one\n",
    "- Add the picked kmers to the set, and return it\n",
    "\n",
    "Hint:\n",
    "- Ensure windows are overlapped by k-1\n",
    "- Assume sequence length $>>$ `k` $*$ `s`\n",
    "- Use `extract_kmers(seq, k)` to extract a set of kmers\n",
    "    \n",
    "</div>"
   ]
  },
  {
   "cell_type": "code",
   "execution_count": null,
   "metadata": {},
   "outputs": [],
   "source": [
    "def minimizer_sketch(seq: str, k: int, s: int) -> set:\n",
    "    \"\"\"\n",
    "    Calulate minimizer sketch from DNA sequence.\n",
    "    \"\"\"\n",
    "    seq_len = len(seq)\n",
    "    \n",
    "    stride = seq_len // s \n",
    "    # print(\"stride:\", stride)\n",
    "\n",
    "    # Ensure windows overlap by k - 1\n",
    "    window_size = stride + k - 1\n",
    "\n",
    "\n",
    "    # print(\"window size: \", window_size)\n",
    "    minimizer_set = set()\n",
    "    for i in range(0, seq_len - window_size + 1, stride):\n",
    "        # print(i)\n",
    "        \n",
    "        # print(seq[i:i+window_size])\n",
    "\n",
    "        a = sorted(extract_kmers(seq=seq[i:i+window_size], k=k))\n",
    "        # print(a)\n",
    "        minimizer_set.add(a[0])\n",
    "        # minimizer_set.add(extract_kmers(seq[i:i+stride], k = k))\n",
    "    return minimizer_set\n",
    "\n"
   ]
  },
  {
   "cell_type": "code",
   "execution_count": null,
   "metadata": {},
   "outputs": [],
   "source": [
    "seq = 'AGTACAAATACCATT'\n",
    "minimizer_sketch(seq=seq, k=3, s = 3)"
   ]
  },
  {
   "cell_type": "markdown",
   "metadata": {},
   "source": [
    "<div style=\"color: rgb(27,94,32); background: rgb(200,230,201); border: solid 1px rgb(129,199,132); padding: 10px;\"></div>"
   ]
  },
  {
   "cell_type": "code",
   "execution_count": null,
   "metadata": {},
   "outputs": [],
   "source": [
    "seqA = genomes[0].seq[:1000000]\n",
    "minimizer_sketch(seqA, k=10, s=20)\n",
    "seB = genomes[1].seq[:1000000]\n",
    "minimizer_sketch(seB, k=10, s=20)"
   ]
  },
  {
   "cell_type": "markdown",
   "metadata": {},
   "source": [
    "You may notice that the above cell runs quicker than the true Jaccard similarity cell.\n",
    "\n",
    "Now it's time to calculate the estimated Jaccard similarity using minimizers."
   ]
  },
  {
   "cell_type": "code",
   "execution_count": null,
   "metadata": {},
   "outputs": [],
   "source": [
    "def minimizer_jaccard_similarity(seqA: str, seqB: str, k: int, s: int) -> float:\n",
    "\n",
    "    sketchA = minimizer_sketch(seqA, k, s)\n",
    "    sketchB = minimizer_sketch(seqB, k, s)\n",
    "    j = jaccard(set(sketchA), set(sketchB))\n",
    "    return j"
   ]
  },
  {
   "cell_type": "code",
   "execution_count": null,
   "metadata": {},
   "outputs": [],
   "source": [
    "# identical sequences \n",
    "print('IDENTICAL')\n",
    "seqA = genomes[0].seq[:1000000]\n",
    "seqB = seqA\n",
    "jt = true_jaccard_similarity(seqA, seqB, k=37)\n",
    "jm = minimizer_jaccard_similarity(seqA, seqB, k=37, s=3000)\n",
    "print(f'True Jaccard for identical sequences: {jt:.2f}')      # should equal 1.00\n",
    "print(f'Minimizer Jaccard for identical sequences: {jm:.2f}')    # should equal 1.00, as deterministic\n",
    "print()\n",
    "\n",
    "# different sequences: \n",
    "print('DIFFERENT')\n",
    "seqA = genomes[0].seq[:1000000]\n",
    "seqB = genomes[1].seq[:1000000]\n",
    "jt = true_jaccard_similarity(seqA, seqB, k=37)\n",
    "jm = minimizer_jaccard_similarity(seqA, seqB, k=37, s=5000)\n",
    "print(f'True Jaccard for different sequences: {jt:.2f}')\n",
    "print(f'Minimizer Jaccard for different sequences: {jm:.2f}')"
   ]
  },
  {
   "cell_type": "markdown",
   "metadata": {},
   "source": [
    "## Extension: Speed and accuracy comparison\n",
    "\n",
    "Here we demonstrate the speed improvement and accuracy tradeoff when using MinHash and Minimizer. "
   ]
  },
  {
   "cell_type": "markdown",
   "metadata": {},
   "source": [
    "Calculate ***true*** Jaccard similarity (using all kmers). \n",
    "Only using the first 1Mb of a given genome. "
   ]
  },
  {
   "cell_type": "code",
   "execution_count": null,
   "metadata": {},
   "outputs": [],
   "source": [
    "seqA = genomes[0].seq[:1000000]\n",
    "seqB = genomes[1].seq[:1000000]\n",
    "print('true jaccard index: ', true_jaccard_similarity(seqA, seqB, k=37))"
   ]
  },
  {
   "cell_type": "markdown",
   "metadata": {},
   "source": [
    "The cell above should take a few seconds - half a minute to run. \n",
    "\n",
    "This is pretty slow if we want to do many comparisons. <br>\n",
    "Let's instead extract MinHash sketches, then compare sketches instead. \n",
    "\n",
    "Extract sketches (a few seconds - half a minute to run)"
   ]
  },
  {
   "cell_type": "code",
   "execution_count": null,
   "metadata": {},
   "outputs": [],
   "source": [
    "sketch_A = minhash_sketch(genomes[0].seq[:1000000], 37, 1000)\n",
    "sketch_B = minhash_sketch(genomes[1].seq[:1000000], 37, 1000)"
   ]
  },
  {
   "cell_type": "markdown",
   "metadata": {},
   "source": [
    "After sketches have been created, comparisons will now take negligible time. <br>\n",
    "Below we will calculate the jaccard index 100 times to illustrate. It should still run almost instantly. \n",
    "\n",
    "Note that the ***estimated*** jaccard index is very similar to the true jaccard index. "
   ]
  },
  {
   "cell_type": "code",
   "execution_count": null,
   "metadata": {},
   "outputs": [],
   "source": [
    "for i in range(100):\n",
    "    jaccard(set(sketch_A), set(sketch_B))\n",
    "\n",
    "print('MinHash estimated jaccard index: ', jaccard(set(sketch_A), set(sketch_B)))"
   ]
  },
  {
   "cell_type": "markdown",
   "metadata": {},
   "source": [
    "From this example we see that the estimated jaccard index is close to the true value. <br> \n",
    "MinHash can provide an efficiency boost while maintaining decent accuracy. <br>\n",
    "MinHash (and other fingerprinting approaches) can be applied when doing one-to-many or many-to-many comparisons. "
   ]
  },
  {
   "cell_type": "markdown",
   "metadata": {},
   "source": [
    "Minimizer really shines when the sequence is long enough to overcome the randomness. We compare the two whole genome, and analyze the runtime differences. Following code might take several minutes to run depending on the hardware."
   ]
  },
  {
   "cell_type": "code",
   "execution_count": null,
   "metadata": {},
   "outputs": [],
   "source": [
    "kmer_setA = extract_kmers(genomes[0].seq, k=37)\n",
    "kmer_setB = extract_kmers(genomes[1].seq, k=37)\n",
    "print('true jaccard index: ', jaccard(kmer_setA, kmer_setB))"
   ]
  },
  {
   "cell_type": "markdown",
   "metadata": {},
   "source": [
    "Sketching the two genomes should take less than half the time."
   ]
  },
  {
   "cell_type": "code",
   "execution_count": null,
   "metadata": {},
   "outputs": [],
   "source": [
    "sketchA = minimizer_sketch(genomes[0].seq, 37, 8000)\n",
    "sketchB = minimizer_sketch(genomes[1].seq, 37, 8000)"
   ]
  },
  {
   "cell_type": "markdown",
   "metadata": {},
   "source": [
    "Comparing the sketches also takes negligible time."
   ]
  },
  {
   "cell_type": "code",
   "execution_count": null,
   "metadata": {},
   "outputs": [],
   "source": [
    "print('Minimizer estimated jaccard index: ', jaccard(sketchA, sketchB))"
   ]
  },
  {
   "cell_type": "markdown",
   "metadata": {},
   "source": [
    "The estimation is not as good as MinHash. However, the memory consumption really makes a difference."
   ]
  },
  {
   "cell_type": "code",
   "execution_count": null,
   "metadata": {},
   "outputs": [],
   "source": [
    "import sys\n",
    "true_mem = sys.getsizeof(kmer_setA) + sys.getsizeof(kmer_setB)\n",
    "minimizer_mem = sys.getsizeof(sketchA) + sys.getsizeof(sketchA)\n",
    "print(\"True Jaccard consumes: \", true_mem, \"memory\")\n",
    "print(\"Minimizer consumes\", true_mem, \"memory\")\n",
    "print(\"Difference:\", true_mem / minimizer_mem, \"times\")"
   ]
  }
 ],
 "metadata": {
  "celltoolbar": "Create Assignment",
  "kernelspec": {
   "display_name": "venv",
   "language": "python",
   "name": "python3"
  },
  "language_info": {
   "codemirror_mode": {
    "name": "ipython",
    "version": 3
   },
   "file_extension": ".py",
   "mimetype": "text/x-python",
   "name": "python",
   "nbconvert_exporter": "python",
   "pygments_lexer": "ipython3",
   "version": "3.12.3"
  }
 },
 "nbformat": 4,
 "nbformat_minor": 4
}
