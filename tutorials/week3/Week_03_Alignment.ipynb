{
 "cells": [
  {
   "cell_type": "markdown",
   "metadata": {},
   "source": [
    "<div style=\"background: rgb(255,165,0); border: solid 1px rgb(129,199,132); padding: 10px;\">    \n",
    "\n",
    "<h1>Week 3 - Sequence Alignment</h1>\n",
    "\n",
    "</div>"
   ]
  },
  {
   "cell_type": "markdown",
   "metadata": {},
   "source": [
    "<div style=\"color: rgb(27,94,32); background: rgb(200,230,201); border: solid 1px rgb(129,199,132); padding: 10px;\">\n",
    "\n",
    "This week we'll look at some of the alignment algorithms discussed in lectures.\n",
    "\n",
    "</div>"
   ]
  },
  {
   "cell_type": "markdown",
   "metadata": {},
   "source": [
    "## Exercise 1: Hamming distance\n",
    "\n",
    "Hamming distance is an ungapped measure of string distance. \n",
    "\n",
    "For sequences of same length, we iterate each position and note whether the letters match or mismatch. \n",
    "\n",
    "The returned distance score is the total number of mismatches. "
   ]
  },
  {
   "cell_type": "markdown",
   "metadata": {},
   "source": [
    "\n",
    "\n",
    "<div style=\"color: rgb(27,94,32); background: rgb(200,230,201); border: solid 1px rgb(129,199,132); padding: 10px;\">\n",
    "<b>Challange:</b> Edit the Hamming distance function below so that it returns the correct Hamming distance for two strings `a` and `b`.\n",
    "</div>"
   ]
  },
  {
   "cell_type": "code",
   "execution_count": null,
   "metadata": {
    "nbgrader": {
     "grade": false,
     "grade_id": "E1",
     "locked": false,
     "schema_version": 3,
     "solution": true,
     "task": false
    }
   },
   "outputs": [],
   "source": [
    "def hamming(a, b):\n",
    "    \"\"\"\n",
    "    Calculate the Hamming distance between strings a and b.\n",
    "    The strings must be the same length.\n",
    "    \"\"\"\n",
    "    count = 0\n",
    "    if len(a) <= len(b):\n",
    "       shorter_seq = a\n",
    "    else:\n",
    "       shorter_seq = b    \n",
    "    for i in range(len(shorter_seq)):\n",
    "        if a[i] == b[i]:\n",
    "          next\n",
    "        else:\n",
    "           count += 1\n",
    "           next\n",
    "    return count       \n"
   ]
  },
  {
   "cell_type": "markdown",
   "metadata": {},
   "source": [
    "The cells below provide test input to check your code. "
   ]
  },
  {
   "cell_type": "code",
   "execution_count": null,
   "metadata": {},
   "outputs": [],
   "source": [
    "# Should return 1\n",
    "hamming(\"GATTACA\",\"GACTACA\")"
   ]
  },
  {
   "cell_type": "code",
   "execution_count": null,
   "metadata": {},
   "outputs": [],
   "source": [
    "# Should return 2\n",
    "hamming(\"GATTACA\",\"GACTACT\")"
   ]
  },
  {
   "cell_type": "code",
   "execution_count": null,
   "metadata": {},
   "outputs": [],
   "source": [
    "# What will your function do if the strings are of different length? \n",
    "# What should it do?\n",
    "hamming(\"happiness\", \"applying\")"
   ]
  },
  {
   "cell_type": "markdown",
   "metadata": {},
   "source": [
    "When we add shifts to either sequence by adding or removing letters, hamming distance increases dramatically. \n",
    "\n",
    "This is problematic for biological sequences, as indels are a common form of genetic variation, and introduce these shifts. \n",
    "\n",
    "In the example below, inserting a base at the start of s2 (a single edit) results in a disproportionally high distance as all downstream bases are affected by the shift. \n",
    "\n",
    "We can rescue this effect by adding a corresponding gap to s1. "
   ]
  },
  {
   "cell_type": "code",
   "execution_count": null,
   "metadata": {},
   "outputs": [],
   "source": [
    "print(hamming(\"GATTACA\",\"GATTACA\"))    # Should return 0\n",
    "print(hamming(\"GATTACA\",\"TGATTAC\"))    # Should return 6\n",
    "print(hamming(\"-GATTAC\",\"TGATTAC\"))    # Should return 1"
   ]
  },
  {
   "cell_type": "markdown",
   "metadata": {},
   "source": [
    "## Exercise 2: Levenshtein distance\n",
    "\n",
    "Clearly, we need to be able to handle gaps. \n",
    "\n",
    "We need to move away from simple matches/mismatches and instead try to identify the smallest number of 'edits' which would transform one sequence into another. \n",
    "\n",
    "These edits include inserting / deleting characters. \n",
    "\n",
    "The idea of transformation & edits are ideal for sequence alignment as we're counting the number of evolutionary events which separate two sequences. \n",
    "\n",
    "Levenshtein distance is a formalisation of this idea, and can be implemented using two strategies: recursion, and dynamic programming.\n",
    "\n",
    "Levenshtein distance builds upon hamming distance, by considering that a shift at the current location may result in better alignment of the remaining sequence. \n"
   ]
  },
  {
   "cell_type": "code",
   "execution_count": null,
   "metadata": {},
   "outputs": [],
   "source": [
    "# at position 3, what shiting would return the best score?\n",
    "# if keeping same alignment, only add an edit if characters don't match. \n",
    "# if adding a gap, need to add an edit (as an edit was made!).\n",
    "\n",
    "# any sequence length difference will count towards to distance.\n",
    "pos = 3\n",
    "seq1 = \"GATACA\"\n",
    "seq2 = \"GATTACA\"\n",
    "#          ^\n",
    "\n",
    "# Don't introduce a gap. \n",
    "# A CA \n",
    "# T ACA\n",
    "# ^\n",
    "this_dist = 1 if seq1[pos] != seq2[pos] else 0\n",
    "future_dist = hamming('CA.', 'ACA')\n",
    "print('inline: ', this_dist + future_dist)\n",
    "\n",
    "# Introduce a gap in seq1. \n",
    "# - ACA \n",
    "# T ACA\n",
    "# ^\n",
    "this_dist = 1\n",
    "future_dist = hamming('ACA', 'ACA')\n",
    "print('seq1 gap: ', this_dist + future_dist)\n",
    "\n",
    "# Introduce a gap in seq2\n",
    "# A CA \n",
    "# - TACA\n",
    "# ^\n",
    "this_dist = 1 \n",
    "future_dist = hamming('CA..', 'TACA')\n",
    "print('seq2 gap: ', this_dist + future_dist)\n"
   ]
  },
  {
   "cell_type": "markdown",
   "metadata": {},
   "source": [
    "This poses an issue. \n",
    "\n",
    "If we test 3 alignments at a given base, ***for each*** of these alignments, the next base also requires 3 alignments. \n",
    "\n",
    "This is inherently recursive. \n"
   ]
  },
  {
   "cell_type": "markdown",
   "metadata": {},
   "source": [
    "<div style=\"color: rgb(27,94,32); background: rgb(200,230,201); border: solid 1px rgb(129,199,132); padding: 10px;\">\n",
    "<b>Challange:</b> Edit the `lev` function below to calculate Levenshtein distance recursively. You can use the costs \n",
    "* 1 for an indel\n",
    "* 1 for a mismatch\n",
    "* 0 for a match\n",
    "\n",
    "This is the same function as shown during lectures, but try to implement it without looking back at the slides.\n",
    "\n",
    "</div>"
   ]
  },
  {
   "cell_type": "code",
   "execution_count": null,
   "metadata": {
    "nbgrader": {
     "grade": false,
     "grade_id": "E2",
     "locked": false,
     "schema_version": 3,
     "solution": true,
     "task": false
    }
   },
   "outputs": [],
   "source": [
    "\n",
    "def lev(a,b):\n",
    "    \"\"\"\n",
    "    Recursively calculate Levenshtein distance between strings a and b.\n",
    "    \"\"\"\n",
    "    # YOUR CODE HERE\n",
    "    raise NotImplementedError"
   ]
  },
  {
   "cell_type": "markdown",
   "metadata": {},
   "source": [
    "Try inserting a print statement at the top of your code to show the arguement values each time the function is called."
   ]
  },
  {
   "cell_type": "code",
   "execution_count": null,
   "metadata": {},
   "outputs": [],
   "source": [
    "print(lev(\"GATTACA\",\"GAATACA\")) # should return 1\n",
    "print(lev(\"-GATTAC\",\"TGATTAC\")) # should return 1"
   ]
  },
  {
   "cell_type": "code",
   "execution_count": null,
   "metadata": {},
   "outputs": [],
   "source": [
    "# Should return 4\n",
    "lev(\"tuesday\",\"sundays\")"
   ]
  },
  {
   "cell_type": "code",
   "execution_count": null,
   "metadata": {},
   "outputs": [],
   "source": [
    "# Should return 6\n",
    "lev(\"happiness\",\"applying\")"
   ]
  },
  {
   "cell_type": "markdown",
   "metadata": {},
   "source": [
    "## Exercise 3: Levenshtein distance with Dynamic Programming\n",
    "\n",
    "During the recursive Levenshtein algorithm, each function call created 3 more function calls. <br>\n",
    "This results in a huge number of operations, and is inefficient as we are repeating many calculations. \n",
    "\n",
    "Using an example from above, we can see why. <br>\n",
    "Let's imagine that we don't consider shifts. Our recusive levenshtein becomes quite simple (essentially hamming distance).\n",
    "- score += 1 if bases don't match \n",
    "- return score + lev(seq1[i+1], seq2[i+1])\n",
    "\n",
    "Ie if we provide the strings 'GAATACA' and 'GATTACA' as input we would have the following calls: \n",
    "```python\n",
    "0 + lev('AATACA', 'ATTACA')\n",
    "0 + 0 + lev('ATACA', 'TTACA')\n",
    "0 + 0 + 1 + lev('TACA', 'TACA')\n",
    "0 + 0 + 1 + 0 + lev('ACA', 'ACA')\n",
    "0 + 0 + 1 + 0 + 0 + lev('CA', 'CA')\n",
    "0 + 0 + 1 + 0 + 0 + 0 + lev('A', 'A')\n",
    "```\n",
    "\n",
    "We can use dynamic programming to reduce the number of calculations we do. \n",
    "\n",
    "Dynamic programming approaches break one large problem into a series of local subproblems. <br>\n",
    "In this setup, the solution to a given subproblem is only dependent on the previous solution. \n",
    "\n",
    "To adapt our levenshtein distance algorithm we will need to keep track of previous solutions. <br>\n",
    "Additionally, we will need to calculate the current solution based on previous solutions, so will need to think about prefixes rather than suffixes. \n",
    "\n",
    "To implement this, we can create a matrix to keep track of already calculated levenshtein distances.  <br>\n",
    "We will place levenshtein distances between all prefixes of string1 and all prefixes of string2 in this matrix.  <br>\n",
    "To calculate the next distance, we therefore only need the relevant previous solutions, which are in the matix. \n",
    "\n",
    "<img src=\"https://raw.githubusercontent.com/melbournebioinformatics/COMP90014_2024/master/tutorials/media/week3/levenshtein.png\" width=\"600\">"
   ]
  },
  {
   "cell_type": "markdown",
   "metadata": {},
   "source": [
    "<div style=\"color: rgb(27,94,32); background: rgb(200,230,201); border: solid 1px rgb(129,199,132); padding: 10px;\">\n",
    "\n",
    "<b>Challange:</b> Find the Levenshtein Distance of two squences using a dynamic programming approach. \n",
    "\n",
    "You can use the costs:\n",
    "* 1 for an indel\n",
    "* 1 for a mismatch\n",
    "* 0 for a match\n",
    "\n",
    "- [ ] Initialise the scoregrid as a numpy array\n",
    "- [ ] Populate the first row and column with cumulative indel scores\n",
    "- [ ] Fill the matrix (starting top left to right)\n",
    "- [ ] Selecting the minimum scoring operation from {insertion, deletion, match, mismatch} at each step.\n",
    "\n",
    "</div>"
   ]
  },
  {
   "cell_type": "code",
   "execution_count": null,
   "metadata": {
    "nbgrader": {
     "grade": false,
     "grade_id": "E3",
     "locked": false,
     "schema_version": 3,
     "solution": true,
     "task": false
    }
   },
   "outputs": [],
   "source": [
    "import numpy as np\n",
    "\n",
    "def levenshtein_distance(str1, str2):\n",
    "    \"\"\"\n",
    "    Calculate the Levenshtein distance between two strings using dynamic programming.\n",
    "\n",
    "    Parameters:\n",
    "    str1 (str): The first input string.\n",
    "    str2 (str): The second input string.\n",
    "\n",
    "    Returns:\n",
    "    int: The Levenshtein distance between the two input strings.\n",
    "    \"\"\"\n",
    "    # YOUR CODE HERE \n",
    "    raise NotImplementedError"
   ]
  },
  {
   "cell_type": "code",
   "execution_count": null,
   "metadata": {},
   "outputs": [],
   "source": [
    "# Test your function!\n",
    "str1 = \"kitten\"\n",
    "str2 = \"sitting\"\n",
    "distance = levenshtein_distance(str1, str2)\n",
    "print(f\"Levenshtein distance between '{str1}' and '{str2}': {distance}\")"
   ]
  },
  {
   "cell_type": "markdown",
   "metadata": {},
   "source": [
    "<div style=\"background: rgb(255,165,0); border: solid 1px rgb(129,199,132); padding: 10px;\">    \n",
    "\n",
    "<h1>Extension Activities</h1>\n",
    "\n",
    "</div>"
   ]
  },
  {
   "cell_type": "markdown",
   "metadata": {},
   "source": [
    "From here, Levenshtein distance can be modified to create Needleman-Wunsch global alignment by simply changing to a penalty system. \n",
    "\n",
    "Local (Smith-Waterman) and semi-global alignment are also similar, but have a few extra tweaks. "
   ]
  },
  {
   "cell_type": "markdown",
   "metadata": {},
   "source": [
    "## Global alignment: Needleman-Wunsch"
   ]
  },
  {
   "cell_type": "markdown",
   "metadata": {},
   "source": [
    "To do global alignment with the Needleman-Wunsch algorithm (dynamic programming), we need the following: \n",
    "\n",
    "1. Fill out the grid of alignment scores. This is enough to give the final ***alignment score***.\n",
    "2. Fill out a separate grid which keeps track of the arrows (for each cell, did we come from diagonal, above, or left).\n",
    "3. Perform traceback (using the arrows grid) to get the actual alignment of the strings.\n",
    "\n",
    "Here we will just calculate the alignment score. We won't bother with items 2) and 3). \n",
    "\n",
    "Note: feel free to implement these yourself!"
   ]
  },
  {
   "cell_type": "markdown",
   "metadata": {},
   "source": [
    "## Exercise 4: Needleman-Wunsch\n"
   ]
  },
  {
   "cell_type": "markdown",
   "metadata": {},
   "source": [
    "<div style=\"color: rgb(27,94,32); background: rgb(200,230,201); border: solid 1px rgb(129,199,132); padding: 10px;\">\n",
    "<b>Challange:</b> Complete the `calculate_scoregrid()` function to calculate the scores needed for global alignment via the Needleman-Wunsch algorithm.\n",
    "</div>"
   ]
  },
  {
   "cell_type": "code",
   "execution_count": 3,
   "metadata": {
    "nbgrader": {
     "grade": false,
     "grade_id": "E4",
     "locked": false,
     "schema_version": 3,
     "solution": true,
     "task": false
    }
   },
   "outputs": [
    {
     "ename": "ModuleNotFoundError",
     "evalue": "No module named 'numpy'",
     "output_type": "error",
     "traceback": [
      "\u001b[31m---------------------------------------------------------------------------\u001b[39m",
      "\u001b[31mModuleNotFoundError\u001b[39m                       Traceback (most recent call last)",
      "\u001b[36mCell\u001b[39m\u001b[36m \u001b[39m\u001b[32mIn[3]\u001b[39m\u001b[32m, line 1\u001b[39m\n\u001b[32m----> \u001b[39m\u001b[32m1\u001b[39m \u001b[38;5;28;01mimport\u001b[39;00m\u001b[38;5;250m \u001b[39m\u001b[34;01mnumpy\u001b[39;00m\u001b[38;5;250m \u001b[39m\u001b[38;5;28;01mas\u001b[39;00m\u001b[38;5;250m \u001b[39m\u001b[34;01mnp\u001b[39;00m\n\u001b[32m      2\u001b[39m \u001b[38;5;66;03m# A version with scores rather than costs, which can be specified\u001b[39;00m\n\u001b[32m      3\u001b[39m \u001b[38;5;66;03m# Indels are scored per-base\u001b[39;00m\n\u001b[32m      4\u001b[39m \u001b[38;5;28;01mdef\u001b[39;00m\u001b[38;5;250m \u001b[39m\u001b[34mcalculate_scoregrid\u001b[39m(a, b, indel_score=-\u001b[32m1\u001b[39m, match_score=\u001b[32m2\u001b[39m, mismatch_score=-\u001b[32m1\u001b[39m):\n",
      "\u001b[31mModuleNotFoundError\u001b[39m: No module named 'numpy'"
     ]
    }
   ],
   "source": [
    "import numpy as np\n",
    "# A version with scores rather than costs, which can be specified\n",
    "# Indels are scored per-base\n",
    "def calculate_scoregrid(a, b, indel_score=-1, match_score=2, mismatch_score=-1):\n",
    "    \"\"\"\n",
    "    Given two strings a and b, calculate the maximum score grid, using\n",
    "    specified scores for indels, matches and mismatches. Return the grid.\n",
    "    Grid row and column 0 correspond to \"before\" the start of each string,\n",
    "    so grid indexes are offset by 1 from string indexes. That is,\n",
    "    grid position [1,1] represents the result of matching a[0] to b[0].\n",
    "    \"\"\"\n",
    "    # The grid needs to be 1 bigger in each direction than the string lengths\n",
    "    X = len(a)+1\n",
    "    Y = len(b)+1\n",
    "    scoregrid = np.zeros((X,Y), int)\n",
    "    \n",
    "    # You need to:\n",
    "    # * initialise the top edge of grid, i.e. scoregrid[x,0] for all x, with indel scores\n",
    "    # * initialise the left edge of grid, i.e. scoregrid[0,y] for all x, with indel scores\n",
    "    # * loop over x and y, filling out each cell of the grid by looking for the\n",
    "    #   maximum possible score from each of the three earlier cells\n",
    "    \n",
    "    for i in range(X):\n",
    "        scoregrid[i,0]=indel_score\n",
    "    for j in range(Y):\n",
    "        scoregrid[0,j]=indel_score\n",
    "    return scoregrid    \n",
    "    \n",
    "    "
   ]
  },
  {
   "cell_type": "code",
   "execution_count": 4,
   "metadata": {},
   "outputs": [
    {
     "ename": "NameError",
     "evalue": "name 'np' is not defined",
     "output_type": "error",
     "traceback": [
      "\u001b[31m---------------------------------------------------------------------------\u001b[39m",
      "\u001b[31mNameError\u001b[39m                                 Traceback (most recent call last)",
      "\u001b[36mCell\u001b[39m\u001b[36m \u001b[39m\u001b[32mIn[4]\u001b[39m\u001b[32m, line 5\u001b[39m\n\u001b[32m      3\u001b[39m a = \u001b[33m\"\u001b[39m\u001b[33mGATTACA\u001b[39m\u001b[33m\"\u001b[39m\n\u001b[32m      4\u001b[39m b = \u001b[33m\"\u001b[39m\u001b[33mGACTATA\u001b[39m\u001b[33m\"\u001b[39m\n\u001b[32m----> \u001b[39m\u001b[32m5\u001b[39m scoregrid = \u001b[43mcalculate_scoregrid\u001b[49m\u001b[43m(\u001b[49m\u001b[43ma\u001b[49m\u001b[43m,\u001b[49m\u001b[43mb\u001b[49m\u001b[43m)\u001b[49m\n\u001b[32m      6\u001b[39m scoregrid\n",
      "\u001b[36mCell\u001b[39m\u001b[36m \u001b[39m\u001b[32mIn[1]\u001b[39m\u001b[32m, line 14\u001b[39m, in \u001b[36mcalculate_scoregrid\u001b[39m\u001b[34m(a, b, indel_score, match_score, mismatch_score)\u001b[39m\n\u001b[32m     12\u001b[39m X = \u001b[38;5;28mlen\u001b[39m(a)+\u001b[32m1\u001b[39m\n\u001b[32m     13\u001b[39m Y = \u001b[38;5;28mlen\u001b[39m(b)+\u001b[32m1\u001b[39m\n\u001b[32m---> \u001b[39m\u001b[32m14\u001b[39m scoregrid = \u001b[43mnp\u001b[49m.zeros((X,Y), \u001b[38;5;28mint\u001b[39m)\n\u001b[32m     16\u001b[39m \u001b[38;5;66;03m# You need to:\u001b[39;00m\n\u001b[32m     17\u001b[39m \u001b[38;5;66;03m# * initialise the top edge of grid, i.e. scoregrid[x,0] for all x, with indel scores\u001b[39;00m\n\u001b[32m     18\u001b[39m \u001b[38;5;66;03m# * initialise the left edge of grid, i.e. scoregrid[0,y] for all x, with indel scores\u001b[39;00m\n\u001b[32m     19\u001b[39m \u001b[38;5;66;03m# * loop over x and y, filling out each cell of the grid by looking for the\u001b[39;00m\n\u001b[32m     20\u001b[39m \u001b[38;5;66;03m#   maximum possible score from each of the three earlier cells\u001b[39;00m\n\u001b[32m     22\u001b[39m \u001b[38;5;28;01mfor\u001b[39;00m i \u001b[38;5;129;01min\u001b[39;00m \u001b[38;5;28mrange\u001b[39m(X):\n",
      "\u001b[31mNameError\u001b[39m: name 'np' is not defined"
     ]
    }
   ],
   "source": [
    "# Once you've implemented calculate_scoregrid, this should show the correct\n",
    "# values instead of all zeroes\n",
    "a = \"GATTACA\"\n",
    "b = \"GACTATA\"\n",
    "scoregrid = calculate_scoregrid(a,b)\n",
    "scoregrid"
   ]
  },
  {
   "cell_type": "code",
   "execution_count": null,
   "metadata": {},
   "outputs": [],
   "source": [
    "print(\"Alignment score:\",scoregrid[-1,-1])"
   ]
  },
  {
   "cell_type": "markdown",
   "metadata": {},
   "source": [
    "## Exercise 5: Local Alignment\n"
   ]
  },
  {
   "cell_type": "markdown",
   "metadata": {},
   "source": [
    "<div style=\"color: rgb(27,94,32); background: rgb(200,230,201); border: solid 1px rgb(129,199,132); padding: 10px;\">\n",
    "<b>Challange:</b> Change your `calculate_scoregrid()` function to perform local instead of global alignment. You can import the `traceback_local()` function to help you test your result.\n",
    "</div>"
   ]
  },
  {
   "cell_type": "code",
   "execution_count": null,
   "metadata": {
    "nbgrader": {
     "grade": false,
     "grade_id": "E5",
     "locked": false,
     "schema_version": 3,
     "solution": true,
     "task": false
    }
   },
   "outputs": [],
   "source": [
    "# A version with scores rather than costs, which can be specified\n",
    "# Indels are scored per-base\n",
    "def calculate_scoregrid_local(a, b, indel_score=-1, match_score=2, mismatch_score=-1):\n",
    "    \"\"\"\n",
    "    Given two strings a and b, calculate the maximum score grid, using\n",
    "    specified scores for indels, matches and mismatches. Return the grid.\n",
    "    Grid row and column 0 correspond to \"before\" the start of each string,\n",
    "    so grid indexes are offset by 1 from string indexes. That is,\n",
    "    grid position [1,1] represents the result of matching a[0] to b[0].\n",
    "    \"\"\"\n",
    "    # The grid needs to be 1 bigger in each direction than the string lengths\n",
    "    X = len(a)+1\n",
    "    Y = len(b)+1\n",
    "    scoregrid = np.zeros((X,Y), int)\n",
    "\n",
    "    # YOUR CODE HERE \n",
    "    raise NotImplementedError"
   ]
  },
  {
   "cell_type": "code",
   "execution_count": null,
   "metadata": {},
   "outputs": [],
   "source": [
    "# Test your function\n",
    "a = 'happily'\n",
    "b = 'applying'\n",
    "scoregrid_local = calculate_scoregrid_local(a, b)\n",
    "scoregrid_local"
   ]
  }
 ],
 "metadata": {
  "celltoolbar": "Create Assignment",
  "kernelspec": {
   "display_name": "venv",
   "language": "python",
   "name": "python3"
  },
  "language_info": {
   "codemirror_mode": {
    "name": "ipython",
    "version": 3
   },
   "file_extension": ".py",
   "mimetype": "text/x-python",
   "name": "python",
   "nbconvert_exporter": "python",
   "pygments_lexer": "ipython3",
   "version": "3.12.3"
  }
 },
 "nbformat": 4,
 "nbformat_minor": 4
}
