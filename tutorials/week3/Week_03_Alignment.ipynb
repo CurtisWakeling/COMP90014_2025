{
 "cells": [
  {
   "cell_type": "markdown",
   "metadata": {},
   "source": [
    "<div style=\"background: rgb(255,165,0); border: solid 1px rgb(129,199,132); padding: 10px;\">    \n",
    "\n",
    "<h1>Week 3 - Sequence Alignment</h1>\n",
    "\n",
    "</div>"
   ]
  },
  {
   "cell_type": "markdown",
   "metadata": {},
   "source": [
    "This week we'll look at some of the alignment algorithms discussed in lectures.\n",
    "\n",
    "**Completing this Tutorial**\n",
    "\n",
    "The README.md file in this respository has been updated.\n",
    "\n",
    "Here are the new instructions for working on tutorials/assignments to avoid any merge conflicts. \n",
    "\n",
    "1. Open the COMP90014_2025 cloned folder using VS Code.\n",
    "2. Navigate to the 'Source Control' tab.\n",
    "3. Click the three dots '...' next to the 'CHANGES' heading.\n",
    "4. Select 'Pull' to sync updates.\n",
    "5. ***Copy the updated week tutorial / assignment folder to a separate location on your computer [NEW INSTRUCTION]***\n",
    "6. ***Finally, open VS Code to the new folder [NEW INSTRUCTION]***\n",
    "\n",
    "By copying the tutorial / assignment folder into a new location (outside the COMP90014_2025 folder), any updates to the official material won't conflict with changes you have made. This is because the copied folder is no longer within your local version of the COMP90014_2025 repository. \n",
    "\n",
    "**Requirements**\n",
    "\n",
    "Once you have copied the week 3 folder into a new location... \n",
    "\n",
    "Create a venv in the week 3 folder using pip,\n",
    "\n",
    "`python -m venv venv` \n",
    "\n",
    "Activate the environment,\n",
    "\n",
    "`source venv/bin/activate`\n",
    "\n",
    "Install the requirements for this tutorial,\n",
    "\n",
    "`pip install ipykernel biopython numpy`\n",
    "\n",
    "Then select the new `venv` environment as your notebook kernel. "
   ]
  },
  {
   "cell_type": "markdown",
   "metadata": {},
   "source": [
    "## Exercise 1: Hamming distance\n",
    "\n",
    "Hamming distance is an ungapped measure of string distance. \n",
    "\n",
    "For sequences of same length, we iterate each position and note whether the letters match or mismatch. \n",
    "\n",
    "The returned distance score is the total number of mismatches. "
   ]
  },
  {
   "cell_type": "markdown",
   "metadata": {},
   "source": [
    "<div style=\"color: rgb(27,94,32); background: rgb(200,230,201); border: solid 1px rgb(129,199,132); padding: 10px;\">\n",
    "<b>Task</b> \n",
    "\n",
    "Edit the Hamming distance function below so that it returns the correct Hamming distance for two strings `a` and `b`.\n",
    "</div>"
   ]
  },
  {
   "cell_type": "code",
   "execution_count": null,
   "metadata": {
    "nbgrader": {
     "grade": false,
     "grade_id": "E1",
     "locked": false,
     "schema_version": 3,
     "solution": true,
     "task": false
    }
   },
   "outputs": [],
   "source": [
    "def hamming(a, b):\n",
    "    \"\"\"\n",
    "    Calculate the Hamming distance between strings a and b.\n",
    "    The strings must be the same length.\n",
    "    \"\"\"\n",
    "    count = 0\n",
    "    if len(a) <= len(b):\n",
    "       shorter_seq = a\n",
    "    else:\n",
    "       shorter_seq = b    \n",
    "    for i in range(len(shorter_seq)):\n",
    "        if a[i] == b[i]:\n",
    "          next\n",
    "        else:\n",
    "           count += 1\n",
    "           next\n",
    "    return count       \n"
   ]
  },
  {
   "cell_type": "markdown",
   "metadata": {},
   "source": [
    "<div style=\"color: rgb(27,94,32); background: rgb(200,230,201); border: solid 1px rgb(129,199,132); padding: 10px;\"></div>"
   ]
  },
  {
   "cell_type": "markdown",
   "metadata": {},
   "source": [
    "The cells below provide test input to check your code. "
   ]
  },
  {
   "cell_type": "code",
   "execution_count": 4,
   "metadata": {},
   "outputs": [
    {
     "data": {
      "text/plain": [
       "1"
      ]
     },
     "execution_count": 4,
     "metadata": {},
     "output_type": "execute_result"
    }
   ],
   "source": [
    "# Should return 1\n",
    "hamming(\"GATTACA\",\"GACTACA\")"
   ]
  },
  {
   "cell_type": "code",
   "execution_count": 5,
   "metadata": {},
   "outputs": [
    {
     "data": {
      "text/plain": [
       "2"
      ]
     },
     "execution_count": 5,
     "metadata": {},
     "output_type": "execute_result"
    }
   ],
   "source": [
    "# Should return 2\n",
    "hamming(\"GATTACA\",\"GACTACT\")"
   ]
  },
  {
   "cell_type": "code",
   "execution_count": 6,
   "metadata": {},
   "outputs": [
    {
     "name": "stdout",
     "output_type": "stream",
     "text": [
      "Input strings must be equal length\n"
     ]
    }
   ],
   "source": [
    "# What will your function do if the strings are of different length? \n",
    "# What should it do?\n",
    "hamming(\"happiness\", \"applying\")"
   ]
  },
  {
   "cell_type": "markdown",
   "metadata": {},
   "source": [
    "When we add shifts to either sequence by adding or removing letters, hamming distance increases dramatically. \n",
    "\n",
    "This is problematic for biological sequences, as indels are a common form of genetic variation, and introduce these shifts. \n",
    "\n",
    "In the example below, inserting a base at the start of s2 (a single edit) results in a disproportionally high distance as all downstream bases are affected by the shift. \n",
    "\n",
    "We can rescue this effect by adding a corresponding gap to s1. "
   ]
  },
  {
   "cell_type": "code",
   "execution_count": 7,
   "metadata": {},
   "outputs": [
    {
     "name": "stdout",
     "output_type": "stream",
     "text": [
      "0\n",
      "6\n",
      "1\n"
     ]
    }
   ],
   "source": [
    "print(hamming(\"GATTACA\",\"GATTACA\"))    # Should return 0\n",
    "print(hamming(\"GATTACA\",\"TGATTAC\"))    # Should return 6\n",
    "print(hamming(\"-GATTAC\",\"TGATTAC\"))    # Should return 1"
   ]
  },
  {
   "cell_type": "markdown",
   "metadata": {},
   "source": [
    "## Exercise 2: Levenshtein distance\n",
    "\n",
    "Clearly, we need to be able to handle gaps. \n",
    "\n",
    "We need to move away from simple matches/mismatches and instead try to identify the smallest number of 'edits' which would transform one sequence into another. \n",
    "\n",
    "These edits include inserting / deleting characters. \n",
    "\n",
    "The idea of transformation & edits are ideal for sequence alignment as we're counting the number of evolutionary events which separate two sequences. \n",
    "\n",
    "Levenshtein distance is a formalisation of this idea, and can be implemented using two strategies: recursion, and dynamic programming.\n",
    "\n",
    "Levenshtein distance builds upon hamming distance, by considering that a shift at the current location may result in better alignment of the remaining sequence. \n"
   ]
  },
  {
   "cell_type": "code",
<<<<<<< HEAD
   "execution_count": null,
=======
   "execution_count": 8,
>>>>>>> 5f728367139b9c36006bb55981c5db4f513f9567
   "metadata": {},
   "outputs": [],
   "source": [
    "# at position 3, what would return the best score?\n",
    "# if keeping same alignment, only add an edit if characters don't match. \n",
    "# if adding a gap, need to add an edit (as an edit was made!).\n",
    "\n",
    "# any sequence length difference will count towards to distance.\n",
    "pos = 3\n",
    "seq1 = \"GATACA\"\n",
    "seq2 = \"GATTACA\"\n",
    "#          ^\n",
    "\n",
    "# Don't introduce a gap. \n",
    "# A CA \n",
    "# T ACA\n",
    "# ^\n",
    "this_dist = 1 if seq1[pos] != seq2[pos] else 0\n",
    "future_dist = hamming('CA.', 'ACA')\n",
    "print('inline: ', this_dist + future_dist)\n",
    "\n",
    "# Introduce a gap in seq1. \n",
    "# - ACA \n",
    "# T ACA\n",
    "# ^\n",
    "this_dist = 1\n",
    "future_dist = hamming('ACA', 'ACA')\n",
    "print('seq1 gap: ', this_dist + future_dist)\n",
    "\n",
    "# Introduce a gap in seq2\n",
    "# A CA \n",
    "# - TACA\n",
    "# ^\n",
    "this_dist = 1 \n",
    "future_dist = hamming('CA..', 'TACA')\n",
    "print('seq2 gap: ', this_dist + future_dist)\n"
   ]
  },
  {
   "cell_type": "markdown",
   "metadata": {},
   "source": [
    "This poses an issue. \n",
    "\n",
    "If we test 3 alignments at a given base, ***for each*** of these alignments, the next base also requires 3 alignments. \n",
    "\n",
    "This is inherently recursive. \n"
   ]
  },
  {
   "cell_type": "markdown",
   "metadata": {},
   "source": [
    "<div style=\"color: rgb(27,94,32); background: rgb(200,230,201); border: solid 1px rgb(129,199,132); padding: 10px;\">\n",
    "<b>Task</b>\n",
    "\n",
    "Edit the `lev` function below to calculate Levenshtein distance recursively. As we are counting the number of edits required to transform one string into the other, use the following costs:\n",
    "\n",
    "- 1 for an indel\n",
    "- 1 for a mismatch\n",
    "- 0 for a match\n",
    "\n",
    "This is the same function as shown during lectures, but try to implement it without looking back at the slides.\n",
    "</div>"
   ]
  },
  {
   "cell_type": "code",
   "execution_count": null,
   "metadata": {
    "nbgrader": {
     "grade": false,
     "grade_id": "E2",
     "locked": false,
     "schema_version": 3,
     "solution": true,
     "task": false
    }
   },
   "outputs": [],
   "source": [
    "def lev(a, b):\n",
    "    \"\"\"\n",
    "    Recursively calculate Levenshtein distance between strings a and b.\n",
    "    \"\"\"\n",
    "\n",
    "    # YOUR CODE HERE\n",
    "    raise NotImplementedError"
   ]
  },
  {
   "cell_type": "markdown",
   "metadata": {},
   "source": [
    "<div style=\"color: rgb(27,94,32); background: rgb(200,230,201); border: solid 1px rgb(129,199,132); padding: 10px;\"></div>\n"
   ]
  },
  {
   "cell_type": "markdown",
   "metadata": {},
   "source": [
    "### Python Debugger\n",
    "\n",
    "If we add break points at the base cases, we can see how the distance is calculated step by step."
   ]
  },
  {
   "cell_type": "code",
   "execution_count": null,
   "metadata": {},
   "outputs": [
    {
     "data": {
      "text/plain": [
       "1"
      ]
     },
     "execution_count": 28,
     "metadata": {},
     "output_type": "execute_result"
    }
   ],
   "source": [
    "lev(\"AT\",\"T\")"
   ]
  },
  {
   "cell_type": "markdown",
   "metadata": {},
   "source": [
    "Try inserting a print statement at the top of your code to show the arguement values each time the function is called."
   ]
  },
  {
   "cell_type": "code",
   "execution_count": 30,
   "metadata": {},
   "outputs": [
    {
     "name": "stdout",
     "output_type": "stream",
     "text": [
      "1\n",
      "1\n"
     ]
    }
   ],
   "source": [
    "print(lev(\"GATTACA\",\"GAATACA\")) # should return 1\n",
    "print(lev(\"-GATTAC\",\"TGATTAC\")) # should return 1"
   ]
  },
  {
   "cell_type": "code",
   "execution_count": 31,
   "metadata": {},
   "outputs": [
    {
     "data": {
      "text/plain": [
       "4"
      ]
     },
     "execution_count": 31,
     "metadata": {},
     "output_type": "execute_result"
    }
   ],
   "source": [
    "# Should return 4\n",
    "lev(\"tuesday\",\"sundays\")"
   ]
  },
  {
   "cell_type": "code",
   "execution_count": 32,
   "metadata": {},
   "outputs": [
    {
     "data": {
      "text/plain": [
       "6"
      ]
     },
     "execution_count": 32,
     "metadata": {},
     "output_type": "execute_result"
    }
   ],
   "source": [
    "# Should return 6\n",
    "lev(\"happiness\",\"applying\")"
   ]
  },
  {
   "cell_type": "markdown",
   "metadata": {},
   "source": [
    "## Exercise 3: Levenshtein distance with Dynamic Programming\n",
    "\n",
    "During the recursive Levenshtein algorithm, each function call created 3 more function calls. <br>\n",
    "This results in a huge number of operations, and is inefficient as we are repeating many calculations. \n",
    "\n",
    "Using an example from above, we can see why. <br>\n",
    "Let's imagine that we don't consider shifts. Our recusive levenshtein becomes quite simple (essentially hamming distance).\n",
    "- score += 1 if bases don't match \n",
    "- return score + lev(seq1[i+1], seq2[i+1])\n",
    "\n",
    "Ie if we provide the strings 'GAATACA' and 'GATTACA' as input we would have the following calls: \n",
    "```python\n",
    "0 + lev('AATACA', 'ATTACA')\n",
    "0 + 0 + lev('ATACA', 'TTACA')\n",
    "0 + 0 + 1 + lev('TACA', 'TACA')\n",
    "0 + 0 + 1 + 0 + lev('ACA', 'ACA')\n",
    "0 + 0 + 1 + 0 + 0 + lev('CA', 'CA')\n",
    "0 + 0 + 1 + 0 + 0 + 0 + lev('A', 'A')\n",
    "```\n",
    "\n",
    "We can use dynamic programming to reduce the number of calculations we do. \n",
    "\n",
    "Dynamic programming approaches break one large problem into a series of local subproblems. <br>\n",
    "In this setup, the solution to a given subproblem is only dependent on the previous solution. \n",
    "\n",
    "To adapt our levenshtein distance algorithm we will need to keep track of previous solutions. <br>\n",
    "Additionally, we will need to calculate the current solution based on previous solutions, so will need to think about prefixes rather than suffixes. \n",
    "\n",
    "To implement this, we can create a matrix to keep track of already calculated levenshtein distances.  <br>\n",
    "We will place levenshtein distances between all prefixes of string1 and all prefixes of string2 in this matrix.  <br>\n",
    "To calculate the next distance, we therefore only need the relevant previous solutions, which are in the matix. \n",
    "\n",
    "<img src=\"./media/levenshtein.png\" width=\"600\">"
   ]
  },
  {
   "cell_type": "markdown",
   "metadata": {},
   "source": [
    "<div style=\"color: rgb(27,94,32); background: rgb(200,230,201); border: solid 1px rgb(129,199,132); padding: 10px;\">\n",
    "\n",
    "<b>Challange:</b> Find the Levenshtein Distance of two squences using a dynamic programming approach. \n",
    "\n",
    "You can use the costs:\n",
    "* 1 for an indel\n",
    "* 1 for a mismatch\n",
    "* 0 for a match\n",
    "\n",
    "- [ ] Initialise the scoregrid as a numpy array\n",
    "- [ ] Populate the first row and column with cumulative indel scores\n",
    "- [ ] Fill the matrix (starting top left to right)\n",
    "- [ ] Selecting the minimum scoring operation from {insertion, deletion, match, mismatch} at each step.\n",
    "\n",
    "</div>"
   ]
  },
  {
   "cell_type": "code",
   "execution_count": null,
   "metadata": {
    "nbgrader": {
     "grade": false,
     "grade_id": "E3",
     "locked": false,
     "schema_version": 3,
     "solution": true,
     "task": false
    }
   },
   "outputs": [],
   "source": [
    "import numpy as np\n",
    "\n",
    "def levenshtein_distance(str1, str2):\n",
    "    \"\"\"\n",
    "    Calculate the Levenshtein distance between two strings using dynamic programming.\n",
    "\n",
    "    Parameters:\n",
    "    str1 (str): The first input string.\n",
    "    str2 (str): The second input string.\n",
    "\n",
    "    Returns:\n",
    "    int: The Levenshtein distance between the two input strings.\n",
    "    \"\"\"\n",
    "\n",
    "    len_str1 = len(str1)\n",
    "    len_str2 = len(str2)\n",
    "    \n",
    "    # Initialize a matrix to store distances\n",
    "    dist_matrix = np.zeros((len_str1 + 1, len_str2 + 1), dtype=int)\n",
    "    \n",
    "    # YOUR CODE HERE \n",
    "    raise NotImplementedError"
   ]
  },
  {
   "cell_type": "markdown",
   "metadata": {},
   "source": [
    "<div style=\"color: rgb(27,94,32); background: rgb(200,230,201); border: solid 1px rgb(129,199,132); padding: 10px;\"></div>"
   ]
  },
  {
   "cell_type": "code",
   "execution_count": 34,
   "metadata": {},
   "outputs": [
    {
     "name": "stdout",
     "output_type": "stream",
     "text": [
      "Levenshtein distance between 'kitten' and 'sitting': 3\n"
     ]
    }
   ],
   "source": [
    "# Test your function!\n",
    "str1 = \"kitten\"\n",
    "str2 = \"sitting\"\n",
    "distance = levenshtein_distance(str1, str2)\n",
    "print(f\"Levenshtein distance between '{str1}' and '{str2}': {distance}\")"
   ]
  },
  {
   "cell_type": "markdown",
   "metadata": {},
   "source": [
    "## Exercise 4: Pairwise Alignment \n",
    "\n",
    "Use the Bio.Align.PairwiseAligner class from Biopython to perform alignment. <br>\n",
    "See the cell below for an example of using PairwiseAligner. \n",
    "- Call the .align() function to do alignment.\n",
    "- The .align() function returns a list of alignments, where the first item is the best alignment.\n",
    "- The score for an alignment can be retrieved via the .score property.\n",
    "- Documentation can be seen at https://biopython.org/docs/dev/api/Bio.Align.html if needed. \n"
   ]
  },
  {
   "cell_type": "code",
   "execution_count": 105,
   "metadata": {},
   "outputs": [
    {
     "name": "stdout",
     "output_type": "stream",
     "text": [
      "target            0 GAAC 4\n",
      "                  0 |||| 4\n",
      "query             0 GAAC 4\n",
      "\n"
     ]
    }
   ],
   "source": [
    "import Bio.Align\n",
    "aligner = Bio.Align.PairwiseAligner()\n",
    "aligner.mode = 'local'\n",
    "alignments = aligner.align(\"GAACTC\", \"GAAC\")\n",
    "alignment = alignments[0]\n",
    "print(alignment)"
   ]
  },
  {
   "cell_type": "markdown",
   "metadata": {},
   "source": [
    "If we want to see all the alignments and their scores:"
   ]
  },
  {
   "cell_type": "code",
   "execution_count": 106,
   "metadata": {},
   "outputs": [
    {
     "name": "stdout",
     "output_type": "stream",
     "text": [
      "target            0 GAAC 4\n",
      "                  0 |||| 4\n",
      "query             0 GAAC 4\n",
      "\n",
      "Alignment score: 4.0\n",
      "target            0 GAACTC 6\n",
      "                  0 |||--| 6\n",
      "query             0 GAA--C 4\n",
      "\n",
      "Alignment score: 4.0\n"
     ]
    }
   ],
   "source": [
    "for alignment in alignments:\n",
    "    print(alignment)\n",
    "    print(\"Alignment score:\", alignment.score)"
   ]
  },
  {
   "cell_type": "markdown",
   "metadata": {},
   "source": [
    "The default aligner doesn't punish gaps. We can specify the penalty for opening gaps and extending gaps. As biologically, one large gap is more likely than multiple small gaps."
   ]
  },
  {
   "cell_type": "code",
   "execution_count": 109,
   "metadata": {},
   "outputs": [
    {
     "name": "stdout",
     "output_type": "stream",
     "text": [
      "target            0 GAAC 4\n",
      "                  0 |||| 4\n",
      "query             0 GAAC 4\n",
      "\n",
      "Alignment score: 4.0\n"
     ]
    }
   ],
   "source": [
    "import Bio.Align\n",
    "aligner = Bio.Align.PairwiseAligner()\n",
    "aligner.mode = 'local'\n",
    "aligner.open_gap_score = -2\n",
    "aligner.extend_gap_score = -1\n",
    "alignments = aligner.align(\"GAACTC\", \"GAAC\")\n",
    "for alignment in alignments:\n",
    "    print(alignment)\n",
    "    print(\"Alignment score:\", alignment.score)"
   ]
  },
  {
   "cell_type": "markdown",
   "metadata": {},
   "source": [
    "Now we have only one alignment. `Bio.Align.PairwiseAligner()` can also do global alignment with similar syntax."
   ]
  },
  {
   "cell_type": "code",
   "execution_count": 110,
   "metadata": {},
   "outputs": [
    {
     "name": "stdout",
     "output_type": "stream",
     "text": [
      "target            0 GAACTC 6\n",
      "                  0 |||--| 6\n",
      "query             0 GAA--C 4\n",
      "\n",
      "Alignment score: 1.0\n",
      "target            0 GAACTC 6\n",
      "                  0 ||||-- 6\n",
      "query             0 GAAC-- 4\n",
      "\n",
      "Alignment score: 1.0\n"
     ]
    }
   ],
   "source": [
    "import Bio.Align\n",
    "aligner = Bio.Align.PairwiseAligner()\n",
    "aligner.mode = 'global'\n",
    "aligner.open_gap_score = -2\n",
    "aligner.extend_gap_score = -1\n",
    "alignments = aligner.align(\"GAACTC\", \"GAAC\")\n",
    "for alignment in alignments:\n",
    "    print(alignment)\n",
    "    print(\"Alignment score:\", alignment.score)"
   ]
  },
  {
   "cell_type": "markdown",
   "metadata": {},
   "source": [
    "<div style=\"background: rgb(255,165,0); border: solid 1px rgb(129,199,132); padding: 10px;\">    \n",
    "\n",
    "<h1>Extension Activities</h1>\n",
    "\n",
    "</div>"
   ]
  },
  {
   "cell_type": "markdown",
   "metadata": {},
   "source": [
    "From here, Levenshtein distance can be modified to create Needleman-Wunsch global alignment by simply changing to a penalty system. \n",
    "\n",
    "Local (Smith-Waterman) and semi-global alignment are also similar, but have a few extra tweaks. "
   ]
  },
  {
   "cell_type": "markdown",
   "metadata": {},
   "source": [
    "## Global alignment: Needleman-Wunsch"
   ]
  },
  {
   "cell_type": "markdown",
   "metadata": {},
   "source": [
    "To do global alignment with the Needleman-Wunsch algorithm (dynamic programming), we need the following: \n",
    "\n",
    "1. Fill out the grid of alignment scores. This is enough to give the final ***alignment score***.\n",
    "2. Fill out a separate grid which keeps track of the arrows (for each cell, did we come from diagonal, above, or left).\n",
    "3. Perform traceback (using the arrows grid) to get the actual alignment of the strings.\n",
    "\n",
    "Here we will just calculate the alignment score. We won't bother with items 2) and 3). \n",
    "\n",
    "Note: feel free to implement these yourself!"
   ]
  },
  {
   "cell_type": "markdown",
   "metadata": {},
   "source": [
    "## Extension Exercise 1: Tracking Matrix\n",
    "\n",
    "To trace back the actual alignment after calculating the Levenshtein distance, we need a separate matrix to store the directions at each cell. In this exercise, we will use integer for tracking matrix. `0 for diagonal, 1 for above, and 2 for left`.\n",
    "\n",
    "Copy your levenshtein_distance() implementation to the following as a starting point for this challange."
   ]
  },
  {
   "cell_type": "markdown",
   "metadata": {},
   "source": [
    "<div style=\"color: rgb(27,94,32); background: rgb(200,230,201); border: solid 1px rgb(129,199,132); padding: 10px;\">\n",
    "<b>Challange:</b> Complete the `levenshtein_tracking_matrix()` function to keep track of the arrows for each cell in a separated matrix.\n",
    "\n",
    "<b>Note:</b> Instead of returning the distance (the bottom right cell), we are returning the whole matrix as well as the tracking matrix.\n",
    "</div>"
   ]
  },
  {
   "cell_type": "code",
<<<<<<< HEAD
   "execution_count": 3,
   "metadata": {
    "nbgrader": {
     "grade": false,
     "grade_id": "E4",
     "locked": false,
     "schema_version": 3,
     "solution": true,
     "task": false
    }
   },
   "outputs": [
    {
     "ename": "ModuleNotFoundError",
     "evalue": "No module named 'numpy'",
     "output_type": "error",
     "traceback": [
      "\u001b[31m---------------------------------------------------------------------------\u001b[39m",
      "\u001b[31mModuleNotFoundError\u001b[39m                       Traceback (most recent call last)",
      "\u001b[36mCell\u001b[39m\u001b[36m \u001b[39m\u001b[32mIn[3]\u001b[39m\u001b[32m, line 1\u001b[39m\n\u001b[32m----> \u001b[39m\u001b[32m1\u001b[39m \u001b[38;5;28;01mimport\u001b[39;00m\u001b[38;5;250m \u001b[39m\u001b[34;01mnumpy\u001b[39;00m\u001b[38;5;250m \u001b[39m\u001b[38;5;28;01mas\u001b[39;00m\u001b[38;5;250m \u001b[39m\u001b[34;01mnp\u001b[39;00m\n\u001b[32m      2\u001b[39m \u001b[38;5;66;03m# A version with scores rather than costs, which can be specified\u001b[39;00m\n\u001b[32m      3\u001b[39m \u001b[38;5;66;03m# Indels are scored per-base\u001b[39;00m\n\u001b[32m      4\u001b[39m \u001b[38;5;28;01mdef\u001b[39;00m\u001b[38;5;250m \u001b[39m\u001b[34mcalculate_scoregrid\u001b[39m(a, b, indel_score=-\u001b[32m1\u001b[39m, match_score=\u001b[32m2\u001b[39m, mismatch_score=-\u001b[32m1\u001b[39m):\n",
      "\u001b[31mModuleNotFoundError\u001b[39m: No module named 'numpy'"
     ]
    }
   ],
   "source": [
    "import numpy as np\n",
    "# A version with scores rather than costs, which can be specified\n",
    "# Indels are scored per-base\n",
    "def calculate_scoregrid(a, b, indel_score=-1, match_score=2, mismatch_score=-1):\n",
    "    \"\"\"\n",
    "    Given two strings a and b, calculate the maximum score grid, using\n",
    "    specified scores for indels, matches and mismatches. Return the grid.\n",
    "    Grid row and column 0 correspond to \"before\" the start of each string,\n",
    "    so grid indexes are offset by 1 from string indexes. That is,\n",
    "    grid position [1,1] represents the result of matching a[0] to b[0].\n",
    "    \"\"\"\n",
    "    # The grid needs to be 1 bigger in each direction than the string lengths\n",
    "    X = len(a)+1\n",
    "    Y = len(b)+1\n",
    "    scoregrid = np.zeros((X,Y), int)\n",
    "    \n",
    "    # You need to:\n",
    "    # * initialise the top edge of grid, i.e. scoregrid[x,0] for all x, with indel scores\n",
    "    # * initialise the left edge of grid, i.e. scoregrid[0,y] for all x, with indel scores\n",
    "    # * loop over x and y, filling out each cell of the grid by looking for the\n",
    "    #   maximum possible score from each of the three earlier cells\n",
    "    \n",
    "    for i in range(X):\n",
    "        scoregrid[i,0]=indel_score\n",
    "    for j in range(Y):\n",
    "        scoregrid[0,j]=indel_score\n",
    "    return scoregrid    \n",
    "    \n",
    "    "
   ]
  },
  {
   "cell_type": "code",
   "execution_count": 4,
=======
   "execution_count": null,
>>>>>>> 5f728367139b9c36006bb55981c5db4f513f9567
   "metadata": {},
   "outputs": [
    {
     "ename": "NameError",
     "evalue": "name 'np' is not defined",
     "output_type": "error",
     "traceback": [
      "\u001b[31m---------------------------------------------------------------------------\u001b[39m",
      "\u001b[31mNameError\u001b[39m                                 Traceback (most recent call last)",
      "\u001b[36mCell\u001b[39m\u001b[36m \u001b[39m\u001b[32mIn[4]\u001b[39m\u001b[32m, line 5\u001b[39m\n\u001b[32m      3\u001b[39m a = \u001b[33m\"\u001b[39m\u001b[33mGATTACA\u001b[39m\u001b[33m\"\u001b[39m\n\u001b[32m      4\u001b[39m b = \u001b[33m\"\u001b[39m\u001b[33mGACTATA\u001b[39m\u001b[33m\"\u001b[39m\n\u001b[32m----> \u001b[39m\u001b[32m5\u001b[39m scoregrid = \u001b[43mcalculate_scoregrid\u001b[49m\u001b[43m(\u001b[49m\u001b[43ma\u001b[49m\u001b[43m,\u001b[49m\u001b[43mb\u001b[49m\u001b[43m)\u001b[49m\n\u001b[32m      6\u001b[39m scoregrid\n",
      "\u001b[36mCell\u001b[39m\u001b[36m \u001b[39m\u001b[32mIn[1]\u001b[39m\u001b[32m, line 14\u001b[39m, in \u001b[36mcalculate_scoregrid\u001b[39m\u001b[34m(a, b, indel_score, match_score, mismatch_score)\u001b[39m\n\u001b[32m     12\u001b[39m X = \u001b[38;5;28mlen\u001b[39m(a)+\u001b[32m1\u001b[39m\n\u001b[32m     13\u001b[39m Y = \u001b[38;5;28mlen\u001b[39m(b)+\u001b[32m1\u001b[39m\n\u001b[32m---> \u001b[39m\u001b[32m14\u001b[39m scoregrid = \u001b[43mnp\u001b[49m.zeros((X,Y), \u001b[38;5;28mint\u001b[39m)\n\u001b[32m     16\u001b[39m \u001b[38;5;66;03m# You need to:\u001b[39;00m\n\u001b[32m     17\u001b[39m \u001b[38;5;66;03m# * initialise the top edge of grid, i.e. scoregrid[x,0] for all x, with indel scores\u001b[39;00m\n\u001b[32m     18\u001b[39m \u001b[38;5;66;03m# * initialise the left edge of grid, i.e. scoregrid[0,y] for all x, with indel scores\u001b[39;00m\n\u001b[32m     19\u001b[39m \u001b[38;5;66;03m# * loop over x and y, filling out each cell of the grid by looking for the\u001b[39;00m\n\u001b[32m     20\u001b[39m \u001b[38;5;66;03m#   maximum possible score from each of the three earlier cells\u001b[39;00m\n\u001b[32m     22\u001b[39m \u001b[38;5;28;01mfor\u001b[39;00m i \u001b[38;5;129;01min\u001b[39;00m \u001b[38;5;28mrange\u001b[39m(X):\n",
      "\u001b[31mNameError\u001b[39m: name 'np' is not defined"
     ]
    }
   ],
   "source": [
    "def levenshtein_tracking_matrix(str1, str2):\n",
    "    \"\"\"\n",
    "    Calculate the Levenshtein distance between two strings using dynamic programming.\n",
    "\n",
    "    Parameters:\n",
    "    str1 (str): The first input string.\n",
    "    str2 (str): The second input string.\n",
    "\n",
    "    Returns:\n",
    "    tuple of numpy.ndarray: The distance matrix of Levenshtein distance and the tracking matrix\n",
    "    \"\"\"\n",
    "    len_str1 = len(str1)\n",
    "    len_str2 = len(str2)\n",
    "    \n",
    "    # Initialize a matrix to store distances and the tracking matrix\n",
    "    dist_matrix = np.zeros((len_str1 + 1, len_str2 + 1), dtype=int)\n",
    "    # Integer, 0 for diagonal, 1 for above, and 2 for left\n",
    "    tracking_matrix = np.zeros((len_str1 + 1, len_str2 + 1), dtype=int)\n",
    "\n",
    "    # Your code HERE\n",
    "    raise NotImplementedError\n",
    "    \n",
    "    # Instead of returning the distance, return the matrix\n",
    "    return dist_matrix, tracking_matrix"
   ]
  },
  {
   "cell_type": "markdown",
   "metadata": {},
   "source": [
    "<div style=\"color: rgb(27,94,32); background: rgb(200,230,201); border: solid 1px rgb(129,199,132); padding: 10px;\"></div>"
   ]
  },
  {
   "cell_type": "code",
   "execution_count": 112,
   "metadata": {},
   "outputs": [
    {
     "name": "stdout",
     "output_type": "stream",
     "text": [
      "Distance Matrix:\n",
      "[[0 1 2 3 4 5 6 7]\n",
      " [1 0 1 2 3 4 5 6]\n",
      " [2 1 0 1 2 3 4 5]\n",
      " [3 2 1 1 1 2 3 4]\n",
      " [4 3 2 2 1 2 2 3]\n",
      " [5 4 3 3 2 1 2 2]\n",
      " [6 5 4 3 3 2 2 3]\n",
      " [7 6 5 4 4 3 3 2]]\n",
      "\n",
      "Tracking Matrix, 0 for diagonal, 1 for above, and 2 for left\n",
      "[[-1  2  2  2  2  2  2  2]\n",
      " [ 1  0  2  2  2  2  2  2]\n",
      " [ 1  1  0  2  2  0  2  0]\n",
      " [ 1  1  1  0  0  2  0  2]\n",
      " [ 1  1  1  0  0  0  0  2]\n",
      " [ 1  1  0  0  1  0  2  0]\n",
      " [ 1  1  1  0  1  1  0  0]\n",
      " [ 1  1  0  1  0  0  0  0]]\n"
     ]
    }
   ],
   "source": [
    "# Once you've implemented calculate_scoregrid, this should show the correct\n",
    "# values instead of all zeroes\n",
    "a = \"GATTACA\"\n",
    "b = \"GACTATA\"\n",
    "dist_matrix, tracking_matrix = levenshtein_tracking_matrix(a, b)\n",
    "# Should output as following:\n",
    "\"\"\"\n",
    "Distance Matrix:\n",
    "[[0 1 2 3 4 5 6 7]\n",
    " [1 0 1 2 3 4 5 6]\n",
    " [2 1 0 1 2 3 4 5]\n",
    " [3 2 1 1 1 2 3 4]\n",
    " [4 3 2 2 1 2 2 3]\n",
    " [5 4 3 3 2 1 2 2]\n",
    " [6 5 4 3 3 2 2 3]\n",
    " [7 6 5 4 4 3 3 2]]\n",
    "\n",
    "Tracking Matrix, 0 for diagonal, 1 for above, and 2 for left\n",
    "[[-1  2  2  2  2  2  2  2]\n",
    " [ 1  0  2  2  2  2  2  2]\n",
    " [ 1  1  0  2  2  0  2  0]\n",
    " [ 1  1  1  0  0  2  0  2]\n",
    " [ 1  1  1  0  0  0  0  2]\n",
    " [ 1  1  0  0  1  0  2  0]\n",
    " [ 1  1  1  0  1  1  0  0]\n",
    " [ 1  1  0  1  0  0  0  0]]\n",
    "\"\"\"\n",
    "\n",
    "print(\"Distance Matrix:\")\n",
    "print(dist_matrix)\n",
    "print(\"\\nTracking Matrix, 0 for diagonal, 1 for above, and 2 for left\", )\n",
    "print(tracking_matrix)"
   ]
  },
  {
   "cell_type": "markdown",
   "metadata": {},
   "source": [
    "## Extension Exercise 2: Global Alignment\n",
    "\n",
    "With the tracking matrix, we can trace back from the bottom-right corner, and construct the actual alignment pattern."
   ]
  },
  {
   "cell_type": "markdown",
   "metadata": {},
   "source": [
    "<div style=\"color: rgb(27,94,32); background: rgb(200,230,201); border: solid 1px rgb(129,199,132); padding: 10px;\">\n",
    "<b>Challange:</b> Complete the `traceback_global_alignment()` function to perform global alignment.\n",
    "\n",
    "\n",
    "Parameters:\n",
    "* str1 (str): The first input string.\n",
    "* str2 (str): The second input string.\n",
    "\n",
    "Returns:\n",
    "- tuple of str: The aligned versions of str1 and str2 with '-' for gaps.\n",
    "\n",
    "Hints:\n",
    "- [ ] Start from the bottom-right corner.\n",
    "- [ ] Ends when reach top row, or left column.\n",
    "</div>"
   ]
  },
  {
   "cell_type": "code",
   "execution_count": null,
   "metadata": {},
   "outputs": [],
   "source": [
    "def traceback_global_alignment(str1, str2):\n",
    "    \"\"\"\n",
    "    Reconstruct the global (Needleman-Wunsch) alignment from the distance and tracking matrices.\n",
    "\n",
    "    Parameters:\n",
    "    str1 (str): The first input string.\n",
    "    str2 (str): The second input string.\n",
    "\n",
    "    Returns:\n",
    "    tuple of str: The aligned versions of str1 and str2 with '-' for gaps.\n",
    "    \"\"\"\n",
    "\n",
    "    dist_matrix, tracking_matrix = levenshtein_tracking_matrix(str1, str2)\n",
    "\n",
    "    # Your code HERE\n",
    "    raise NotImplementedError"
   ]
  },
  {
   "cell_type": "markdown",
   "metadata": {},
   "source": [
    "<div style=\"color: rgb(27,94,32); background: rgb(200,230,201); border: solid 1px rgb(129,199,132); padding: 10px;\"></div>"
   ]
  },
  {
   "cell_type": "code",
   "execution_count": 117,
   "metadata": {},
   "outputs": [
    {
     "data": {
      "text/plain": [
       "('happ--ily', '-applying')"
      ]
     },
     "execution_count": 117,
     "metadata": {},
     "output_type": "execute_result"
    }
   ],
   "source": [
    "# Test your function\n",
    "a = 'happily'\n",
    "b = 'applying'\n",
    "scoregrid_local = traceback_global_alignment(a, b)\n",
    "scoregrid_local"
   ]
  }
 ],
 "metadata": {
  "celltoolbar": "Create Assignment",
  "kernelspec": {
   "display_name": "venv (3.11.5)",
   "language": "python",
   "name": "python3"
  },
  "language_info": {
   "codemirror_mode": {
    "name": "ipython",
    "version": 3
   },
   "file_extension": ".py",
   "mimetype": "text/x-python",
   "name": "python",
   "nbconvert_exporter": "python",
   "pygments_lexer": "ipython3",
   "version": "3.12.3"
  }
 },
 "nbformat": 4,
 "nbformat_minor": 4
}
