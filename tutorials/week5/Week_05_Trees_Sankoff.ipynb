{
 "cells": [
  {
   "cell_type": "markdown",
   "metadata": {},
   "source": [
    "# Week 5 - Trees and Sankoff"
   ]
  },
  {
   "cell_type": "markdown",
   "metadata": {},
   "source": [
    "<div style=\"color: rgb(27,94,32); background: rgb(200,230,201); border: solid 1px rgb(129,199,132); padding: 10px;\">\n",
    "\n",
    "This week we'll implement the Sankoff algorithm as seen in the Week4 lecture. This is a good introduction to programming with phylogenetic trees and NetworkX package.\n",
    "    \n",
    "</div>"
   ]
  },
  {
   "cell_type": "markdown",
   "metadata": {},
   "source": [
    "## Setup"
   ]
  },
  {
   "cell_type": "markdown",
   "metadata": {},
   "source": [
    "Make sure you have `python >= 3.10`. Check using `python --version` or `python3 --version`.\n",
    "\n",
    "**Week 5 packages**\n",
    "\n",
    "This week we will use:\n",
    "- networkx\n",
    "- ipykernel\n",
    "- matplotlib"
   ]
  },
  {
   "cell_type": "code",
   "execution_count": 1,
   "metadata": {},
   "outputs": [],
   "source": [
    "# Import Necessary Packages\n",
    "import networkx as nx\n",
    "import numpy as np\n",
    "import matplotlib.pyplot as plt"
   ]
  },
  {
   "cell_type": "markdown",
   "metadata": {},
   "source": [
    "## Building Trees"
   ]
  },
  {
   "cell_type": "markdown",
   "metadata": {},
   "source": [
    "### Introduction to NetworkX Package\n",
    "\n",
    "\"NetworkX is a Python package for the creation, manipulation, and study of the structure, dynamics, and functions of complex networks.\"\n",
    "\n",
    "Official tutorials can be found in this [link](https://networkx.org/documentation/stable/tutorial.html)."
   ]
  },
  {
   "cell_type": "markdown",
   "metadata": {},
   "source": [
    "Create an empty directed graph with no nodes and no edges (as trees are a special directed graph):"
   ]
  },
  {
   "cell_type": "code",
   "execution_count": 2,
   "metadata": {},
   "outputs": [
    {
     "data": {
      "text/plain": [
       "<networkx.classes.digraph.DiGraph at 0x11dc7e120>"
      ]
     },
     "execution_count": 2,
     "metadata": {},
     "output_type": "execute_result"
    }
   ],
   "source": [
    "G = nx.DiGraph()\n",
    "G"
   ]
  },
  {
   "cell_type": "markdown",
   "metadata": {},
   "source": [
    "You can add nodes to a graph using a list (or an iterator)."
   ]
  },
  {
   "cell_type": "code",
   "execution_count": 3,
   "metadata": {},
   "outputs": [],
   "source": [
    "G.add_node(1)\n",
    "G.add_nodes_from([2, 3])"
   ]
  },
  {
   "cell_type": "markdown",
   "metadata": {},
   "source": [
    "You can also store attributes inside nodes"
   ]
  },
  {
   "cell_type": "code",
   "execution_count": 4,
   "metadata": {},
   "outputs": [
    {
     "data": {
      "text/plain": [
       "array([[0., 0., 0., 0.],\n",
       "       [0., 0., 0., 0.],\n",
       "       [0., 0., 0., 0.],\n",
       "       [0., 0., 0., 0.]])"
      ]
     },
     "execution_count": 4,
     "metadata": {},
     "output_type": "execute_result"
    }
   ],
   "source": [
    "# Add a node 4, and store a matrix in that node\n",
    "G.add_node(4, matrix = np.zeros(shape = (4, 4)))\n",
    "# Get the matrix in node 4\n",
    "G.nodes[4]['matrix']"
   ]
  },
  {
   "cell_type": "markdown",
   "metadata": {},
   "source": [
    "**Note:** The matrix is a reference. You can assign the reference (pointer) to a new variable, and modify the actual matrix in the graph."
   ]
  },
  {
   "cell_type": "code",
   "execution_count": 5,
   "metadata": {},
   "outputs": [
    {
     "data": {
      "text/plain": [
       "array([[1., 0., 0., 0.],\n",
       "       [0., 0., 0., 0.],\n",
       "       [0., 0., 0., 0.],\n",
       "       [0., 0., 0., 0.]])"
      ]
     },
     "execution_count": 5,
     "metadata": {},
     "output_type": "execute_result"
    }
   ],
   "source": [
    "mat_4 = G.nodes[4]['matrix']\n",
    "mat_4[0, 0] = 1\n",
    "G.nodes[4]['matrix']"
   ]
  },
  {
   "cell_type": "markdown",
   "metadata": {},
   "source": [
    "Edges can be added one at a time."
   ]
  },
  {
   "cell_type": "code",
   "execution_count": 6,
   "metadata": {},
   "outputs": [],
   "source": [
    "G.add_edge(1, 2)"
   ]
  },
  {
   "cell_type": "markdown",
   "metadata": {},
   "source": [
    "We can check the elements of a graph using the following:"
   ]
  },
  {
   "cell_type": "code",
   "execution_count": 7,
   "metadata": {},
   "outputs": [
    {
     "data": {
      "text/plain": [
       "[1, 2, 3, 4]"
      ]
     },
     "execution_count": 7,
     "metadata": {},
     "output_type": "execute_result"
    }
   ],
   "source": [
    "# Get all nodes in graph G\n",
    "list(G.nodes)"
   ]
  },
  {
   "cell_type": "code",
   "execution_count": 8,
   "metadata": {},
   "outputs": [
    {
     "data": {
      "text/plain": [
       "[(1, 2)]"
      ]
     },
     "execution_count": 8,
     "metadata": {},
     "output_type": "execute_result"
    }
   ],
   "source": [
    "# Get all edges in graph G\n",
    "list(G.edges)"
   ]
  },
  {
   "cell_type": "code",
   "execution_count": 9,
   "metadata": {},
   "outputs": [
    {
     "data": {
      "text/plain": [
       "[2]"
      ]
     },
     "execution_count": 9,
     "metadata": {},
     "output_type": "execute_result"
    }
   ],
   "source": [
    "# Get all successsors (children) of node 1\n",
    "list(G.successors(1))"
   ]
  },
  {
   "cell_type": "markdown",
   "metadata": {},
   "source": [
    "### Creating the substitution matrix\n",
    "First, we will create the $c_{ij}$ matrix that contains the substitution scores. As we saw in lecture, the score for no change is 0, the score for a trasition is 1.0 and the score for a transversion is 2.5.\n",
    "\n",
    "We could hard code this since it's only 4x4 but here is some code that will build the matrix as a numpy matrix. The nuclei to integer index mapping are hard coded as a dictionary."
   ]
  },
  {
   "cell_type": "code",
   "execution_count": 10,
   "metadata": {
    "jupyter": {
     "outputs_hidden": true
    }
   },
   "outputs": [
    {
     "name": "stdout",
     "output_type": "stream",
     "text": [
      "The Cost Matrix:\n",
      "[[0.  2.5 1.  2.5]\n",
      " [2.5 0.  2.5 1. ]\n",
      " [1.  2.5 0.  2.5]\n",
      " [2.5 1.  2.5 0. ]]\n"
     ]
    }
   ],
   "source": [
    "# Define nucleotides and index mapping\n",
    "CHARACTERS = [\"A\", \"C\", \"G\", \"T\"]\n",
    "idx = {nt:i for i,nt in enumerate(CHARACTERS)}\n",
    "\n",
    "# Build cost matrix (default = 2.5, transitions = 1, identity = 0)\n",
    "cost_mat = np.full((4,4), 2.5)\n",
    "cost_mat[idx['A'], idx['G']] = cost_mat[idx['G'], idx['A']] = 1.0\n",
    "cost_mat[idx['C'], idx['T']] = cost_mat[idx['T'], idx['C']] = 1.0\n",
    "np.fill_diagonal(cost_mat, 0.0)\n",
    "\n",
    "\n",
    "print(\"The Cost Matrix:\")\n",
    "print(cost_mat)"
   ]
  },
  {
   "cell_type": "markdown",
   "metadata": {},
   "source": [
    "In practical terms, this allows us to easily get a specific $c_{ij}$ value using matrix indices, which improves code readability and have optimal performance."
   ]
  },
  {
   "cell_type": "code",
   "execution_count": 11,
   "metadata": {},
   "outputs": [
    {
     "name": "stdout",
     "output_type": "stream",
     "text": [
      "The cost of A to C is: 2.5\n"
     ]
    }
   ],
   "source": [
    "print(\"The cost of A to C is:\", cost_mat[idx['A'], idx['C']])"
   ]
  },
  {
   "cell_type": "markdown",
   "metadata": {},
   "source": [
    "### Initializing the tree\n",
    "We will also implement the tree as a dictionary of dictionaries. The tree dictionary keys are node names and the values are node dictionaries. The node dictionaries have the node's data, scores and left/right node names, as the key-value pairs.\n",
    "\n",
    "The following function creates an empty tree dictionary suitable for running the Sankoff algorithm on DNA data with the correct number of nodes given a number of tips."
   ]
  },
  {
   "cell_type": "code",
   "execution_count": 48,
   "metadata": {
    "jupyter": {
     "outputs_hidden": true
    }
   },
   "outputs": [],
   "source": [
    "def init_tree(num_seq):\n",
    "    \"\"\"\n",
    "    Create an empty tree with the tip initialized.\n",
    "    The tree is not connected, but the number of nodes is correct\n",
    "    \"\"\"\n",
    "    G = nx.DiGraph()\n",
    "    # Create a matrix full of zeros (Not initialized)\n",
    "    initial_mat = np.zeros((4, 1))\n",
    "\n",
    "    # Create all tip nodes\n",
    "    for i in range(num_seq):\n",
    "        # Construct the tip name\n",
    "        tip_name = f'tip{i}'\n",
    "        # Add the tip node\n",
    "        G.add_node(tip_name, matrix = initial_mat.copy())\n",
    "\n",
    "    # Create all internal nodes, starting from internal 1\n",
    "    for i in range(1, num_seq - 1, 1):\n",
    "        node_name = f'internal{i}'\n",
    "        G.add_node(node_name, matrix = initial_mat.copy())\n",
    "\n",
    "    # Add the root node\n",
    "    G.add_node(\"root\", matrix = initial_mat.copy())\n",
    "\n",
    "    return G"
   ]
  },
  {
   "cell_type": "code",
   "execution_count": 49,
   "metadata": {},
   "outputs": [
    {
     "name": "stdout",
     "output_type": "stream",
     "text": [
      "[[0.]\n",
      " [0.]\n",
      " [0.]\n",
      " [0.]]\n"
     ]
    },
    {
     "data": {
      "image/png": "[encoded data removed]",
      "text/plain": [
       "<Figure size 640x480 with 1 Axes>"
      ]
     },
     "metadata": {},
     "output_type": "display_data"
    }
   ],
   "source": [
    "# Test the init_tree() function\n",
    "my_tree = init_tree(len('CACAG'))\n",
    "print(my_tree.nodes['tip0']['matrix']) # Should output [[inf], [0], [inf], [inf]]\n",
    "# Plot the unconnected graph\n",
    "nx.draw(my_tree, with_labels=True)"
   ]
  },
  {
   "cell_type": "markdown",
   "metadata": {},
   "source": [
    "### Exercise 1: Initializing tip values"
   ]
  },
  {
   "cell_type": "markdown",
   "metadata": {},
   "source": [
    "<div style=\"color: rgb(27,94,32); background: rgb(200,230,201); border: solid 1px rgb(129,199,132); padding: 10px;\">\n",
    "\n",
    "<b>Challenge:</b> The following function should initialize a tip node for the Sankoff algorithm to 0 for the observed nucleotide and infinity (`inf`) for others. Try to complete it. Note that the function modifies the tree in-place and does not return a value.\n",
    "\n",
    "- [ ] Initialize tip nodes with cost of zero\n",
    "- [ ] Internal nodes initialize with cost of infinity\n",
    "- [ ] Return None\n",
    "\n",
    "Hint:\n",
    "\n",
    "- [ ] use `idx[nt]` to get the index for the nucleotide\n",
    "\n",
    "</div>"
   ]
  },
  {
   "cell_type": "code",
   "execution_count": 50,
   "metadata": {
    "nbgrader": {
     "grade": false,
     "grade_id": "E1",
     "locked": false,
     "schema_version": 3,
     "solution": true,
     "task": false
    }
   },
   "outputs": [],
   "source": [
    "def init_tip(tree, tip_name, observed_nt):\n",
    "    \"\"\"\n",
    "    Intialise a tip of a tree with the correct costs.\n",
    "    At this tip node, only the observed nucleotides are possible:\n",
    "    the cost of the observed nucleotide is zero, and\n",
    "    the cost of any other nucleotide is infinity.\n",
    "    \"\"\"\n",
    "\n",
    "    mat = tree.nodes[tip_name]['matrix']\n",
    "    mat += np.inf\n",
    "    mat[idx[observed_nt]] = 0\n",
    "    return None\n",
    "\n",
    "    # YOUR CODE HERE\n",
    "    raise NotImplementedError"
   ]
  },
  {
   "cell_type": "markdown",
   "metadata": {},
   "source": [
    "The following code sets the sequence at the tips (from left to right) and initializes the tree using the function above. Set the sequence for your tree."
   ]
  },
  {
   "cell_type": "code",
   "execution_count": 51,
   "metadata": {},
   "outputs": [
    {
     "data": {
      "text/plain": [
       "array([[inf],\n",
       "       [ 0.],\n",
       "       [inf],\n",
       "       [inf]])"
      ]
     },
     "execution_count": 51,
     "metadata": {},
     "output_type": "execute_result"
    }
   ],
   "source": [
    "# The first bases of all sequences\n",
    "tip_seq = 'CACAG'\n",
    "# Initialize tip0\n",
    "tip_id = 0\n",
    "tip_name = f\"tip{tip_id}\"\n",
    "tip_base = tip_seq[tip_id]\n",
    "init_tip(my_tree, tip_name, tip_base)\n",
    "my_tree.nodes[tip_name]['matrix'] # Should output [[inf], [0], [inf], [inf]]"
   ]
  },
  {
   "cell_type": "markdown",
   "metadata": {},
   "source": [
    "Bellow code explicitly sets the tree topology. We can change the tree's structure by modifying these lines."
   ]
  },
  {
   "cell_type": "code",
   "execution_count": 52,
   "metadata": {
    "jupyter": {
     "outputs_hidden": true
    }
   },
   "outputs": [],
   "source": [
    "my_tree.add_edge(\"internal1\", \"tip0\")\n",
    "my_tree.add_edge(\"internal1\", \"tip1\")\n",
    "my_tree.add_edge(\"internal2\", \"tip3\")\n",
    "my_tree.add_edge(\"internal2\", \"tip4\")\n",
    "my_tree.add_edge(\"internal3\", \"tip2\")\n",
    "my_tree.add_edge(\"internal3\", \"internal2\")\n",
    "my_tree.add_edge(\"root\", \"internal1\")\n",
    "my_tree.add_edge(\"root\", \"internal3\")"
   ]
  },
  {
   "cell_type": "code",
   "execution_count": 53,
   "metadata": {},
   "outputs": [
    {
     "data": {
      "image/png": "[encoded data removed]",
      "text/plain": [
       "<Figure size 640x480 with 1 Axes>"
      ]
     },
     "metadata": {},
     "output_type": "display_data"
    }
   ],
   "source": [
    "# Plot the tree\n",
    "nx.draw(my_tree, with_labels=True)"
   ]
  },
  {
   "cell_type": "markdown",
   "metadata": {},
   "source": [
    "This loop uses the helpful built in function `enumerate` to initialize the tips of the tree using the function you wrote above. Double check that it is working correctly for the tip sequence you entered."
   ]
  },
  {
   "cell_type": "code",
   "execution_count": 54,
   "metadata": {},
   "outputs": [
    {
     "name": "stdout",
     "output_type": "stream",
     "text": [
      "tip0 is C, and the matrix is:\n",
      "tip0\n",
      "[[inf]\n",
      " [ 0.]\n",
      " [inf]\n",
      " [inf]]\n",
      "tip1 is A, and the matrix is:\n",
      "tip1\n",
      "[[ 0.]\n",
      " [inf]\n",
      " [inf]\n",
      " [inf]]\n",
      "tip2 is C, and the matrix is:\n",
      "tip2\n",
      "[[inf]\n",
      " [ 0.]\n",
      " [inf]\n",
      " [inf]]\n",
      "tip3 is A, and the matrix is:\n",
      "tip3\n",
      "[[ 0.]\n",
      " [inf]\n",
      " [inf]\n",
      " [inf]]\n",
      "tip4 is G, and the matrix is:\n",
      "tip4\n",
      "[[inf]\n",
      " [inf]\n",
      " [ 0.]\n",
      " [inf]]\n"
     ]
    }
   ],
   "source": [
    "for i, nt in enumerate(tip_seq):\n",
    "    tip_name = 'tip{}'.format(i)\n",
    "    init_tip(my_tree, tip_name, nt)\n",
    "    print(f\"{tip_name} is {nt}, and the matrix is:\")\n",
    "    print(tip_name)\n",
    "    print(my_tree.nodes[tip_name]['matrix'])"
   ]
  },
  {
   "cell_type": "markdown",
   "metadata": {},
   "source": [
    "## Scoring trees"
   ]
  },
  {
   "cell_type": "markdown",
   "metadata": {},
   "source": [
    "### Exercise 2: Sankoff function core calculation\n"
   ]
  },
  {
   "cell_type": "markdown",
   "metadata": {},
   "source": [
    "<div style=\"color: rgb(27,94,32); background: rgb(200,230,201); border: solid 1px rgb(129,199,132); padding: 10px;\">\n",
    "\n",
    "This function calculates the $S$ arrays for each node. It assumes that the left and right nodes have already been filled.\n",
    "\n",
    "The outer loop is looping over the four entries (ACGT) in the $S$ array. \n",
    "    \n",
    "<b>Challange:</b> Complete the function using the variables initialized and the calculation from lecture:\n",
    "\n",
    "$S_a(i) = \\min_{j}[c_{ij} + S_L(j)] + \\min_{k}[c_{ik} + S_R(k)]$\n",
    "\n",
    "As before, this function modifies the tree in place and doesn't return a value.\n",
    "\n",
    "Hint:\n",
    "\n",
    "- [ ] use `list(my_tree.successors(node_name))` to get the successors of a node\n",
    "    \n",
    "</div>"
   ]
  },
  {
   "cell_type": "code",
   "execution_count": 65,
   "metadata": {},
   "outputs": [
    {
     "name": "stdout",
     "output_type": "stream",
     "text": [
      "tip0\n",
      "[[inf]\n",
      " [ 0.]\n",
      " [inf]\n",
      " [inf]]\n",
      "tip1\n",
      "[[ 0.]\n",
      " [inf]\n",
      " [inf]\n",
      " [inf]]\n",
      "tip2\n",
      "[[inf]\n",
      " [ 0.]\n",
      " [inf]\n",
      " [inf]]\n",
      "tip3\n",
      "[[ 0.]\n",
      " [inf]\n",
      " [inf]\n",
      " [inf]]\n",
      "tip4\n",
      "[[inf]\n",
      " [inf]\n",
      " [ 0.]\n",
      " [inf]]\n",
      "internal1\n",
      "[2.5 2.5 3.5 3.5]\n",
      "internal2\n",
      "[1. 5. 1. 5.]\n",
      "internal3\n",
      "[[0.]\n",
      " [0.]\n",
      " [0.]\n",
      " [0.]]\n",
      "root\n",
      "[[0.]\n",
      " [0.]\n",
      " [0.]\n",
      " [0.]]\n"
     ]
    }
   ],
   "source": [
    "for node in my_tree.nodes:\n",
    "    print(node)\n",
    "    print(my_tree.nodes[node]['matrix'])"
   ]
  },
  {
   "cell_type": "code",
   "execution_count": 73,
   "metadata": {
    "jupyter": {
     "outputs_hidden": true
    },
    "nbgrader": {
     "grade": false,
     "grade_id": "E2",
     "locked": false,
     "schema_version": 3,
     "solution": true,
     "task": false
    }
   },
   "outputs": [],
   "source": [
    "def sankoff_calculate(cost_matrix, tree, node_name):\n",
    "    \"\"\"\n",
    "    For the specified node of the tree, calculate the minimum possible cost \n",
    "    for each nucleotide. \n",
    "    \"\"\"\n",
    "    children = list(tree.successors(node_name))\n",
    "    left_mat = tree.nodes[children[0]]['matrix']\n",
    "    right_mat = tree.nodes[children[1]]['matrix']\n",
    "\n",
    "    # Repeat the child matrix to make it fit the shape of cost matrix\n",
    "    # Repeat the vector across rows, from 4 by 1 to 4 by 4\n",
    "    child_mat_1 = np.repeat(left_mat, 4, axis = 1)\n",
    "    child_mat_1 += cost_matrix\n",
    "    child_mat_2 = np.repeat(right_mat, 4, axis = 1)\n",
    "    child_mat_2 += cost_matrix\n",
    "\n",
    "    # Get the minimum across each column\n",
    "    # From 4 by 4 to 1 by 4\n",
    "    child_mat_1 = np.min(child_mat_1, axis = 0)\n",
    "    child_mat_2 = np.min(child_mat_2, axis = 0)\n",
    "    mat = child_mat_1 + child_mat_2\n",
    "\n",
    "    # Transpose the matrix, from 1 by 4 back to 4 by 1\n",
    "    tree.nodes[node_name]['matrix'] = np.reshape(mat, shape=(4, 1))\n",
    "    return None\n",
    "\n",
    "    raise NotImplementedError"
   ]
  },
  {
   "cell_type": "markdown",
   "metadata": {},
   "source": [
    "Since the `sankoff_calculate` function requires that the left and right nodes be populated, we will perform a recursive traversal. "
   ]
  },
  {
   "cell_type": "code",
   "execution_count": 74,
   "metadata": {},
   "outputs": [],
   "source": [
    "def sankoff_traverse(c_matrix, tree, node_name):\n",
    "    \"\"\"\n",
    "    Traverse the tree recursively, calculating costs for each node.\n",
    "    Calculate a node's children before the node itself.\n",
    "    This function depends on correctly initialising the costs in the tips\n",
    "    of the tree before traversing the tree.\n",
    "    \"\"\"\n",
    "    children = list(tree.successors(node_name))\n",
    "    if len(children) <= 0:\n",
    "        return None\n",
    "    if len(children) != 2:\n",
    "        raise Exception(\"Incorrect binary tree\")\n",
    "    left_node = children[0]\n",
    "    right_node = children[1]\n",
    "    # Traverse left and right node\n",
    "    sankoff_traverse(c_matrix, tree, left_node)\n",
    "    sankoff_traverse(c_matrix, tree, right_node)\n",
    "    sankoff_calculate(c_matrix, tree, node_name)"
   ]
  },
  {
   "cell_type": "code",
   "execution_count": 75,
   "metadata": {},
   "outputs": [],
   "source": [
    "sankoff_traverse(cost_mat, my_tree, 'root')"
   ]
  },
  {
   "cell_type": "markdown",
   "metadata": {},
   "source": [
    "Finally, we can print the result of the root node."
   ]
  },
  {
   "cell_type": "code",
   "execution_count": 84,
   "metadata": {},
   "outputs": [
    {
     "data": {
      "text/plain": [
       "array([[6.],\n",
       "       [6.],\n",
       "       [7.],\n",
       "       [8.]])"
      ]
     },
     "execution_count": 84,
     "metadata": {},
     "output_type": "execute_result"
    }
   ],
   "source": [
    "my_tree.nodes[\"root\"]['matrix']"
   ]
  },
  {
   "cell_type": "markdown",
   "metadata": {},
   "source": [
    "Finding the minimum cost"
   ]
  },
  {
   "cell_type": "code",
   "execution_count": null,
   "metadata": {
    "nbgrader": {
     "grade": false,
     "grade_id": "E3",
     "locked": false,
     "schema_version": 3,
     "solution": true,
     "task": false
    }
   },
   "outputs": [
    {
     "name": "stdout",
     "output_type": "stream",
     "text": [
      "Minimum cost is 6.0 for C and A\n"
     ]
    }
   ],
   "source": [
    "root_mat = my_tree.nodes[\"root\"]['matrix']\n",
    "\n",
    "min_cost = root_mat.min()\n",
    "min_locs = np.where(root_mat == min_cost)\n",
    "\n",
    "min_nts = []\n",
    "for loc in min_locs:\n",
    "    min_nts.append(CHARACTERS[loc[1]])\n",
    "\n",
    "print(\"Minimum cost is {} for {}\".format(min_cost, \" and \".join(min_nts)))"
   ]
  }
 ],
 "metadata": {
  "celltoolbar": "Create Assignment",
  "kernelspec": {
   "display_name": "venv",
   "language": "python",
   "name": "python3"
  },
  "language_info": {
   "codemirror_mode": {
    "name": "ipython",
    "version": 3
   },
   "file_extension": ".py",
   "mimetype": "text/x-python",
   "name": "python",
   "nbconvert_exporter": "python",
   "pygments_lexer": "ipython3",
   "version": "3.13.7"
  }
 },
 "nbformat": 4,
 "nbformat_minor": 4
}
